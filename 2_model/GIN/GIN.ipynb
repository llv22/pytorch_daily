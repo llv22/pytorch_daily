{
 "cells": [
  {
   "cell_type": "markdown",
   "id": "following-aside",
   "metadata": {},
   "source": [
    "# How to Design the Most Powerful Graph Neural Network\n",
    "Reference:\n",
    "* https://towardsdatascience.com/how-to-design-the-most-powerful-graph-neural-network-3d18b07a6e66\n",
    "* [Google colab code](https://colab.research.google.com/drive/1b6SWugNKnxsI0L9auX1zwszlXf3rRZyS?usp=sharing#scrollTo=9frftpyFTJGm)"
   ]
  },
  {
   "cell_type": "code",
   "execution_count": 1,
   "id": "clean-spank",
   "metadata": {},
   "outputs": [],
   "source": [
    "import torch"
   ]
  },
  {
   "cell_type": "code",
   "execution_count": 2,
   "id": "unusual-citizenship",
   "metadata": {},
   "outputs": [
    {
     "name": "stdout",
     "output_type": "stream",
     "text": [
      "Dataset: PROTEINS(1113)\n",
      "-------------------\n",
      "Number of graphs: 1113\n",
      "Number of nodes: 28\n",
      "Number of features: 3\n",
      "Number of classes: 2\n"
     ]
    }
   ],
   "source": [
    "from torch_geometric.datasets import TUDataset\n",
    "\n",
    "dataset = TUDataset(root='.', name='PROTEINS').shuffle()\n",
    "\n",
    "# Print information about the dataset\n",
    "print(f'Dataset: {dataset}')\n",
    "print('-------------------')\n",
    "print(f'Number of graphs: {len(dataset)}')\n",
    "print(f'Number of nodes: {dataset[0].x.shape[0]}')\n",
    "print(f'Number of features: {dataset.num_features}')\n",
    "print(f'Number of classes: {dataset.num_classes}')"
   ]
  },
  {
   "cell_type": "code",
   "execution_count": 3,
   "id": "republican-object",
   "metadata": {},
   "outputs": [],
   "source": [
    "from torch_geometric.loader import DataLoader\n",
    "\n",
    "# Create training, validation, and test sets\n",
    "train_dataset = dataset[:int(len(dataset)*0.8)]\n",
    "val_dataset   = dataset[int(len(dataset)*0.8):int(len(dataset)*0.9)]\n",
    "test_dataset  = dataset[int(len(dataset)*0.9):]\n",
    "\n",
    "# Create mini-batches\n",
    "train_loader = DataLoader(train_dataset, batch_size=64, shuffle=True)\n",
    "val_loader = DataLoader(val_dataset, batch_size=64, shuffle=True)\n",
    "test_loader = DataLoader(test_dataset, batch_size=64, shuffle=False)"
   ]
  },
  {
   "cell_type": "code",
   "execution_count": 4,
   "id": "extreme-system",
   "metadata": {},
   "outputs": [],
   "source": [
    "from torch.nn import Linear, Sequential, BatchNorm1d, ReLU, Dropout\n",
    "import torch.nn.functional as F\n",
    "from torch_geometric.nn import GCNConv, GINConv\n",
    "from torch_geometric.nn import global_mean_pool, global_add_pool"
   ]
  },
  {
   "cell_type": "code",
   "execution_count": 5,
   "id": "distinguished-carnival",
   "metadata": {},
   "outputs": [],
   "source": [
    "class GCN(torch.nn.Module):\n",
    "    \"\"\"GCN\"\"\"\n",
    "    def __init__(self, dim_h):\n",
    "        super(GCN, self).__init__()\n",
    "        self.conv1 = GCNConv(dataset.num_node_features, dim_h)\n",
    "        self.conv2 = GCNConv(dim_h, dim_h)\n",
    "        self.conv3 = GCNConv(dim_h, dim_h)\n",
    "        self.lin = Linear(dim_h, dataset.num_classes)\n",
    "\n",
    "    def forward(self, x, edge_index, batch):\n",
    "        # Node embeddings \n",
    "        h = self.conv1(x, edge_index)\n",
    "        h = h.relu()\n",
    "        h = self.conv2(h, edge_index)\n",
    "        h = h.relu()\n",
    "        h = self.conv3(h, edge_index)\n",
    "\n",
    "        # Graph-level readout\n",
    "        hG = global_mean_pool(h, batch)\n",
    "\n",
    "        # Classifier\n",
    "        h = F.dropout(hG, p=0.5, training=self.training)\n",
    "        h = self.lin(h)\n",
    "        \n",
    "        return hG, F.log_softmax(h, dim=1)"
   ]
  },
  {
   "cell_type": "code",
   "execution_count": 6,
   "id": "expressed-ideal",
   "metadata": {},
   "outputs": [],
   "source": [
    "class GIN(torch.nn.Module):\n",
    "    \"\"\"GIN\"\"\"\n",
    "    def __init__(self, dim_h):\n",
    "        super(GIN, self).__init__()\n",
    "        self.conv1 = GINConv(\n",
    "            Sequential(Linear(dataset.num_node_features, dim_h),\n",
    "                       BatchNorm1d(dim_h), ReLU(),\n",
    "                       Linear(dim_h, dim_h), ReLU()))\n",
    "        self.conv2 = GINConv(\n",
    "            Sequential(Linear(dim_h, dim_h), BatchNorm1d(dim_h), ReLU(),\n",
    "                       Linear(dim_h, dim_h), ReLU()))\n",
    "        self.conv3 = GINConv(\n",
    "            Sequential(Linear(dim_h, dim_h), BatchNorm1d(dim_h), ReLU(),\n",
    "                       Linear(dim_h, dim_h), ReLU()))\n",
    "        self.lin1 = Linear(dim_h*3, dim_h*3)\n",
    "        self.lin2 = Linear(dim_h*3, dataset.num_classes)\n",
    "\n",
    "    def forward(self, x, edge_index, batch):\n",
    "        # Node embeddings \n",
    "        h1 = self.conv1(x, edge_index)\n",
    "        h2 = self.conv2(h1, edge_index)\n",
    "        h3 = self.conv3(h2, edge_index)\n",
    "\n",
    "        # Graph-level readout\n",
    "        h1 = global_add_pool(h1, batch)\n",
    "        h2 = global_add_pool(h2, batch)\n",
    "        h3 = global_add_pool(h3, batch)\n",
    "\n",
    "        # Concatenate graph embeddings\n",
    "        h = torch.cat((h1, h2, h3), dim=1)\n",
    "\n",
    "        # Classifier\n",
    "        h = self.lin1(h)\n",
    "        h = h.relu()\n",
    "        h = F.dropout(h, p=0.5, training=self.training)\n",
    "        h = self.lin2(h)\n",
    "        \n",
    "        return h, F.log_softmax(h, dim=1)"
   ]
  },
  {
   "cell_type": "code",
   "execution_count": 7,
   "id": "outer-bridge",
   "metadata": {},
   "outputs": [],
   "source": [
    "def train(model, loader):\n",
    "    criterion = torch.nn.CrossEntropyLoss()\n",
    "    optimizer = torch.optim.Adam(model.parameters(),\n",
    "                                      lr=0.01,\n",
    "                                      weight_decay=0.01)\n",
    "    epochs = 100\n",
    "\n",
    "    model.train()\n",
    "    for epoch in range(epochs+1):\n",
    "      total_loss = 0\n",
    "      acc = 0\n",
    "      val_loss = 0\n",
    "      val_acc = 0\n",
    "\n",
    "      # Train on batches\n",
    "      for data in loader:\n",
    "        optimizer.zero_grad()\n",
    "        _, out = model(data.x, data.edge_index, data.batch)\n",
    "        loss = criterion(out, data.y)\n",
    "        total_loss += loss / len(loader)\n",
    "        acc += accuracy(out.argmax(dim=1), data.y) / len(loader)\n",
    "        loss.backward()\n",
    "        optimizer.step()\n",
    "\n",
    "        # Validation\n",
    "        val_loss, val_acc = test(model, val_loader)\n",
    "\n",
    "    # Print metrics every 10 epochs\n",
    "    if(epoch % 10 == 0):\n",
    "        print(f'Epoch {epoch:>3} | Train Loss: {total_loss:.2f} '\n",
    "              f'| Train Acc: {acc*100:>5.2f}% '\n",
    "              f'| Val Loss: {val_loss:.2f} '\n",
    "              f'| Val Acc: {val_acc*100:.2f}%')\n",
    "          \n",
    "    test_loss, test_acc = test(model, test_loader)\n",
    "    print(f'Test Loss: {test_loss:.2f} | Test Acc: {test_acc*100:.2f}%')\n",
    "    \n",
    "    return model\n",
    "\n",
    "def test(model, loader):\n",
    "    criterion = torch.nn.CrossEntropyLoss()\n",
    "    model.eval()\n",
    "    loss = 0\n",
    "    acc = 0\n",
    "\n",
    "    for data in loader:\n",
    "      _, out = model(data.x, data.edge_index, data.batch)\n",
    "      loss += criterion(out, data.y) / len(loader)\n",
    "      acc += accuracy(out.argmax(dim=1), data.y) / len(loader)\n",
    "\n",
    "    return loss, acc\n",
    "\n",
    "def accuracy(pred_y, y):\n",
    "    \"\"\"Calculate accuracy.\"\"\"\n",
    "    return ((pred_y == y).sum() / len(y)).item()"
   ]
  },
  {
   "cell_type": "code",
   "execution_count": 8,
   "id": "ready-conspiracy",
   "metadata": {},
   "outputs": [
    {
     "name": "stdout",
     "output_type": "stream",
     "text": [
      "Epoch 100 | Train Loss: 0.67 | Train Acc: 60.30% | Val Loss: 0.67 | Val Acc: 60.04%\n",
      "Test Loss: 0.70 | Test Acc: 54.43%\n"
     ]
    }
   ],
   "source": [
    "gcn = GCN(dim_h=32)\n",
    "gcn = train(gcn, train_loader)"
   ]
  },
  {
   "cell_type": "code",
   "execution_count": 9,
   "id": "supposed-framework",
   "metadata": {},
   "outputs": [
    {
     "name": "stdout",
     "output_type": "stream",
     "text": [
      "Epoch 100 | Train Loss: 0.51 | Train Acc: 76.62% | Val Loss: 0.46 | Val Acc: 77.36%\n",
      "Test Loss: 0.56 | Test Acc: 70.83%\n"
     ]
    }
   ],
   "source": [
    "gin = GIN(dim_h=32)\n",
    "gin = train(gin, train_loader)"
   ]
  },
  {
   "cell_type": "code",
   "execution_count": 10,
   "id": "several-transition",
   "metadata": {},
   "outputs": [
    {
     "name": "stdout",
     "output_type": "stream",
     "text": [
      "GCN test accuracy = (tensor(0.6981, grad_fn=<AddBackward0>), 0.5442708432674408)\n"
     ]
    }
   ],
   "source": [
    "print(f'GCN test accuracy = {test(gcn, test_loader)}')"
   ]
  },
  {
   "cell_type": "code",
   "execution_count": 11,
   "id": "classical-procurement",
   "metadata": {},
   "outputs": [
    {
     "name": "stdout",
     "output_type": "stream",
     "text": [
      "GIN test accuracy = (tensor(0.5613, grad_fn=<AddBackward0>), 0.7083333432674408)\n"
     ]
    }
   ],
   "source": [
    "print(f'GIN test accuracy = {test(gin, test_loader)}')"
   ]
  }
 ],
 "metadata": {
  "kernelspec": {
   "display_name": "Python 3 (ipykernel)",
   "language": "python",
   "name": "python3"
  },
  "language_info": {
   "codemirror_mode": {
    "name": "ipython",
    "version": 3
   },
   "file_extension": ".py",
   "mimetype": "text/x-python",
   "name": "python",
   "nbconvert_exporter": "python",
   "pygments_lexer": "ipython3",
   "version": "3.8.8"
  }
 },
 "nbformat": 4,
 "nbformat_minor": 5
}
