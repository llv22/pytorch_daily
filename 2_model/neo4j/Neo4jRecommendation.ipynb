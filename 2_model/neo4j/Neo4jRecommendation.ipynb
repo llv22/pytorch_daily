{
 "cells": [
  {
   "cell_type": "code",
   "execution_count": 1,
   "id": "artificial-essex",
   "metadata": {},
   "outputs": [],
   "source": [
    "from neo4j import GraphDatabase\n",
    "\n",
    "url= 'bolt://52.204.230.40:7687'\n",
    "user = 'neo4j'\n",
    "password = 'passages-nameplate-misfits'\n",
    "driver = GraphDatabase.driver(url, auth=(user, password)) \n",
    "\n",
    "def fetch_data(query): \n",
    "    with driver.session() as session:\n",
    "        result = session.run(query)\n",
    "        return pd.DataFrame([r.values() for r in result], columns=result.keys())"
   ]
  },
  {
   "cell_type": "code",
   "execution_count": null,
   "id": "fatal-violation",
   "metadata": {},
   "outputs": [],
   "source": []
  }
 ],
 "metadata": {
  "kernelspec": {
   "display_name": "Python 3 (ipykernel)",
   "language": "python",
   "name": "python3"
  },
  "language_info": {
   "codemirror_mode": {
    "name": "ipython",
    "version": 3
   },
   "file_extension": ".py",
   "mimetype": "text/x-python",
   "name": "python",
   "nbconvert_exporter": "python",
   "pygments_lexer": "ipython3",
   "version": "3.8.8"
  }
 },
 "nbformat": 4,
 "nbformat_minor": 5
}
