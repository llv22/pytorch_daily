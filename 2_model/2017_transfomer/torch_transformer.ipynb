{
 "cells": [
  {
   "cell_type": "markdown",
   "id": "edd4c583",
   "metadata": {},
   "source": [
    "# Transformer via torch\n",
    "\n",
    "Original paper: \n",
    "* https://arxiv.org/pdf/1706.03762.pdf  \n",
    "\n",
    "Paper and implementation: \n",
    "* https://paperswithcode.com/paper/attention-is-all-you-need  \n",
    "\n",
    "Dataset:  \n",
    "* https://paperswithcode.com/dataset/wmt-2014  \n",
    "* explore dataset here https://huggingface.co/datasets/viewer/?dataset=wmt19  \n",
    "\n",
    "We use https://huggingface.co/datasets/wmt14 for transformer purpose.  \n",
    "More see in https://huggingface.co/models  \n",
    "\n",
    "Reference implementation: \n",
    "* Baseline provided by pytorch: https://pytorch.org/hub/pytorch_fairseq_translation/  \n",
    "* https://github.com/tensorflow/tensor2tensor/blob/master/tensor2tensor/models/transformer.py\n",
    "* https://github.com/jadore801120/attention-is-all-you-need-pytorch"
   ]
  },
  {
   "cell_type": "code",
   "execution_count": 1,
   "id": "d3260780",
   "metadata": {},
   "outputs": [
    {
     "name": "stdout",
     "output_type": "stream",
     "text": [
      "in SAP network to use SAP proxy\r\n"
     ]
    }
   ],
   "source": [
    "import subprocess as sp\n",
    "\n",
    "def inSapCorporateNetwork():\n",
    "    status,result = sp.getstatusoutput(\"ping -c1 -W1 -q proxy.wdf.sap.corp\")\n",
    "    return status == 0\n",
    "\n",
    "inSAP = inSapCorporateNetwork()\n",
    "if inSAP:\n",
    "    # Set the proxy for the cf command if we are within the SAP corportate network\n",
    "    ! echo \"in SAP network to use SAP proxy\"\n",
    "    ! export http_proxy=http://proxy.sha.sap.corp:8080\n",
    "    ! export https_proxy=http://proxy.sha.sap.corp:8080\n",
    "else:\n",
    "    ! echo \"not in SAP network not to use SAP proxy\"\n",
    "    ! export http_proxy=\n",
    "    ! export https_proxy=   "
   ]
  },
  {
   "cell_type": "code",
   "execution_count": 2,
   "id": "3e94f640",
   "metadata": {},
   "outputs": [],
   "source": [
    "# how to load dataset, refer to https://huggingface.co/docs/datasets/quicktour.html\n",
    "# https://paperswithcode.com/paper/incorporating-bert-into-neural-machine-1\n",
    "# https://colab.research.google.com/github/huggingface/datasets/blob/master/notebooks/Overview.ipynb\n",
    "from datasets import list_datasets, load_dataset, list_metrics, load_metric"
   ]
  },
  {
   "cell_type": "code",
   "execution_count": 3,
   "id": "fedbe0d3",
   "metadata": {},
   "outputs": [
    {
     "name": "stderr",
     "output_type": "stream",
     "text": [
      "Using the latest cached version of the module from /home/i058959/.cache/huggingface/modules/datasets_modules/datasets/wmt14/3d7d25048da28a2f2a8dda5ca306bdc4affcf02bbcb3d277cfe2d5d7b1d71ebc (last modified on Tue Nov 23 10:26:23 2021) since it couldn't be found locally at wmt14, or remotely on the Hugging Face Hub.\n"
     ]
    },
    {
     "name": "stdout",
     "output_type": "stream",
     "text": [
      "Downloading and preparing dataset wmt14/de-en (download: 1.58 GiB, generated: 1.27 GiB, post-processed: Unknown size, total: 2.85 GiB) to /home/i058959/.cache/huggingface/datasets/wmt14___wmt14)/de-en/1.0.0/3d7d25048da28a2f2a8dda5ca306bdc4affcf02bbcb3d277cfe2d5d7b1d71ebc...\n"
     ]
    },
    {
     "data": {
      "application/vnd.jupyter.widget-view+json": {
       "model_id": "ee972cc4d50b4c19a9527778f5a9ccb3",
       "version_major": 2,
       "version_minor": 0
      },
      "text/plain": [
       "  0%|          | 0/5 [00:00<?, ?it/s]"
      ]
     },
     "metadata": {},
     "output_type": "display_data"
    },
    {
     "data": {
      "application/vnd.jupyter.widget-view+json": {
       "model_id": "dd46e95be5b3416bb670e7c57c0dabbc",
       "version_major": 2,
       "version_minor": 0
      },
      "text/plain": [
       "  0%|          | 0/5 [00:00<?, ?it/s]"
      ]
     },
     "metadata": {},
     "output_type": "display_data"
    },
    {
     "data": {
      "application/vnd.jupyter.widget-view+json": {
       "model_id": "8635e12a51984abc82a8ef91bbf2dce2",
       "version_major": 2,
       "version_minor": 0
      },
      "text/plain": [
       "0it [00:00, ?it/s]"
      ]
     },
     "metadata": {},
     "output_type": "display_data"
    },
    {
     "data": {
      "application/vnd.jupyter.widget-view+json": {
       "model_id": "",
       "version_major": 2,
       "version_minor": 0
      },
      "text/plain": [
       "0 examples [00:00, ? examples/s]"
      ]
     },
     "metadata": {},
     "output_type": "display_data"
    },
    {
     "name": "stdout",
     "output_type": "stream",
     "text": [
      "Generating examples from: %s europarl_v7\n",
      "Generating examples from: %s commoncrawl\n",
      "Generating examples from: %s newscommentary_v9\n"
     ]
    },
    {
     "data": {
      "application/vnd.jupyter.widget-view+json": {
       "model_id": "",
       "version_major": 2,
       "version_minor": 0
      },
      "text/plain": [
       "0 examples [00:00, ? examples/s]"
      ]
     },
     "metadata": {},
     "output_type": "display_data"
    },
    {
     "name": "stdout",
     "output_type": "stream",
     "text": [
      "Generating examples from: %s newstest2013\n"
     ]
    },
    {
     "data": {
      "application/vnd.jupyter.widget-view+json": {
       "model_id": "",
       "version_major": 2,
       "version_minor": 0
      },
      "text/plain": [
       "0 examples [00:00, ? examples/s]"
      ]
     },
     "metadata": {},
     "output_type": "display_data"
    },
    {
     "name": "stdout",
     "output_type": "stream",
     "text": [
      "Generating examples from: %s newstest2014\n",
      "Dataset wmt14 downloaded and prepared to /home/i058959/.cache/huggingface/datasets/wmt14___wmt14)/de-en/1.0.0/3d7d25048da28a2f2a8dda5ca306bdc4affcf02bbcb3d277cfe2d5d7b1d71ebc. Subsequent calls will reuse this data.\n"
     ]
    },
    {
     "data": {
      "application/vnd.jupyter.widget-view+json": {
       "model_id": "11cf989612f34f3cbd78fbf68bb37ad3",
       "version_major": 2,
       "version_minor": 0
      },
      "text/plain": [
       "  0%|          | 0/3 [00:00<?, ?it/s]"
      ]
     },
     "metadata": {},
     "output_type": "display_data"
    }
   ],
   "source": [
    "if inSAP:\n",
    "    dataset_wmt14_de_en = load_dataset('wmt14', 'de-en')\n",
    "else:\n",
    "    dataset_wmt14_de_en = load_dataset('wmt14', 'de-en', cache_dir='/workspace/dataset/cache')"
   ]
  },
  {
   "cell_type": "code",
   "execution_count": 4,
   "id": "59500de3",
   "metadata": {},
   "outputs": [
    {
     "name": "stderr",
     "output_type": "stream",
     "text": [
      "Using the latest cached version of the module from /home/i058959/.cache/huggingface/modules/datasets_modules/datasets/wmt19/fae232cf0c13b62b26731bafce0810bc652fb5799189790bed836db0cee28056 (last modified on Fri Oct 15 16:54:18 2021) since it couldn't be found locally at wmt19, or remotely on the Hugging Face Hub.\n",
      "Reusing dataset wmt19 (/home/i058959/.cache/huggingface/datasets/wmt19___wmt19)/de-en/1.0.0/fae232cf0c13b62b26731bafce0810bc652fb5799189790bed836db0cee28056)\n"
     ]
    },
    {
     "data": {
      "application/vnd.jupyter.widget-view+json": {
       "model_id": "1d3afb7492c4493c86387a490fe85c82",
       "version_major": 2,
       "version_minor": 0
      },
      "text/plain": [
       "  0%|          | 0/2 [00:00<?, ?it/s]"
      ]
     },
     "metadata": {},
     "output_type": "display_data"
    }
   ],
   "source": [
    "if inSAP:\n",
    "    dataset_wmt19_de_en = load_dataset('wmt19', 'de-en')\n",
    "else:\n",
    "    dataset_wmt19_de_en = load_dataset('wmt19', 'de-en', cache_dir='/workspace/dataset/cache')"
   ]
  },
  {
   "cell_type": "code",
   "execution_count": null,
   "id": "1b080cde",
   "metadata": {},
   "outputs": [],
   "source": []
  }
 ],
 "metadata": {
  "kernelspec": {
   "display_name": "Python 3",
   "language": "python",
   "name": "python3"
  },
  "language_info": {
   "codemirror_mode": {
    "name": "ipython",
    "version": 3
   },
   "file_extension": ".py",
   "mimetype": "text/x-python",
   "name": "python",
   "nbconvert_exporter": "python",
   "pygments_lexer": "ipython3",
   "version": "3.8.8"
  }
 },
 "nbformat": 4,
 "nbformat_minor": 5
}
