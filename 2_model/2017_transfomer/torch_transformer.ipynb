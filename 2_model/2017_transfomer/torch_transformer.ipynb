{
 "cells": [
  {
   "cell_type": "markdown",
   "id": "photographic-subscriber",
   "metadata": {},
   "source": [
    "# Transformer via torch\n",
    "\n",
    "Original paper: \n",
    "* https://arxiv.org/pdf/1706.03762.pdf  \n",
    "\n",
    "Paper and implementation: \n",
    "* https://paperswithcode.com/paper/attention-is-all-you-need  \n",
    "\n",
    "Dataset:  \n",
    "* https://paperswithcode.com/dataset/wmt-2014  \n",
    "* explore dataset here https://huggingface.co/datasets/viewer/?dataset=wmt19  \n",
    "\n",
    "We use https://huggingface.co/datasets/wmt14 for transformer purpose.  \n",
    "More see in https://huggingface.co/models  \n",
    "\n",
    "Reference implementation: \n",
    "* Baseline provided by pytorch: https://pytorch.org/hub/pytorch_fairseq_translation/  \n",
    "* https://github.com/tensorflow/tensor2tensor/blob/master/tensor2tensor/models/transformer.py\n",
    "* https://github.com/jadore801120/attention-is-all-you-need-pytorch"
   ]
  },
  {
   "cell_type": "code",
   "execution_count": 1,
   "id": "engaged-reggae",
   "metadata": {},
   "outputs": [
    {
     "name": "stdout",
     "output_type": "stream",
     "text": [
      "Enter 0 caching in ~/.cache/huggingface or 1 in ~/workspace/dataset/cache: \n",
      "1\n",
      "Downloading and preparing dataset wmt14/de-en (download: 1.58 GiB, generated: 1.27 GiB, post-processed: Unknown size, total: 2.85 GiB) to /home/i058959/workspace/dataset/cache/wmt14/de-en/1.0.0/3d7d25048da28a2f2a8dda5ca306bdc4affcf02bbcb3d277cfe2d5d7b1d71ebc...\n"
     ]
    },
    {
     "data": {
      "application/vnd.jupyter.widget-view+json": {
       "model_id": "3fdf147af4004b1b96fde8e403e73dcd",
       "version_major": 2,
       "version_minor": 0
      },
      "text/plain": [
       "  0%|          | 0/5 [00:00<?, ?it/s]"
      ]
     },
     "metadata": {},
     "output_type": "display_data"
    },
    {
     "data": {
      "application/vnd.jupyter.widget-view+json": {
       "model_id": "ba882f77a9ce4048956517ae1a54892c",
       "version_major": 2,
       "version_minor": 0
      },
      "text/plain": [
       "Downloading:   0%|          | 0.00/658M [00:00<?, ?B/s]"
      ]
     },
     "metadata": {},
     "output_type": "display_data"
    },
    {
     "data": {
      "application/vnd.jupyter.widget-view+json": {
       "model_id": "563d0d79eb8f484581d10eb01771bfdb",
       "version_major": 2,
       "version_minor": 0
      },
      "text/plain": [
       "Downloading:   0%|          | 0.00/919M [00:00<?, ?B/s]"
      ]
     },
     "metadata": {},
     "output_type": "display_data"
    },
    {
     "data": {
      "application/vnd.jupyter.widget-view+json": {
       "model_id": "63afef537b654474b525e65204015daa",
       "version_major": 2,
       "version_minor": 0
      },
      "text/plain": [
       "Downloading:   0%|          | 0.00/80.5M [00:00<?, ?B/s]"
      ]
     },
     "metadata": {},
     "output_type": "display_data"
    },
    {
     "data": {
      "application/vnd.jupyter.widget-view+json": {
       "model_id": "df87a79d30c447ca979371a68409c95e",
       "version_major": 2,
       "version_minor": 0
      },
      "text/plain": [
       "Downloading:   0%|          | 0.00/38.7M [00:00<?, ?B/s]"
      ]
     },
     "metadata": {},
     "output_type": "display_data"
    },
    {
     "data": {
      "application/vnd.jupyter.widget-view+json": {
       "model_id": "00ccd17d96c7411e85ed01c992c3629d",
       "version_major": 2,
       "version_minor": 0
      },
      "text/plain": [
       "  0%|          | 0/5 [00:00<?, ?it/s]"
      ]
     },
     "metadata": {},
     "output_type": "display_data"
    },
    {
     "data": {
      "application/vnd.jupyter.widget-view+json": {
       "model_id": "64cbdd220800464b85a172ee6bd2fd8b",
       "version_major": 2,
       "version_minor": 0
      },
      "text/plain": [
       "0it [00:00, ?it/s]"
      ]
     },
     "metadata": {},
     "output_type": "display_data"
    },
    {
     "data": {
      "application/vnd.jupyter.widget-view+json": {
       "model_id": "",
       "version_major": 2,
       "version_minor": 0
      },
      "text/plain": [
       "0 examples [00:00, ? examples/s]"
      ]
     },
     "metadata": {},
     "output_type": "display_data"
    },
    {
     "name": "stdout",
     "output_type": "stream",
     "text": [
      "Generating examples from: %s europarl_v7\n",
      "Generating examples from: %s commoncrawl\n",
      "Generating examples from: %s newscommentary_v9\n"
     ]
    },
    {
     "data": {
      "application/vnd.jupyter.widget-view+json": {
       "model_id": "",
       "version_major": 2,
       "version_minor": 0
      },
      "text/plain": [
       "0 examples [00:00, ? examples/s]"
      ]
     },
     "metadata": {},
     "output_type": "display_data"
    },
    {
     "name": "stdout",
     "output_type": "stream",
     "text": [
      "Generating examples from: %s newstest2013\n"
     ]
    },
    {
     "data": {
      "application/vnd.jupyter.widget-view+json": {
       "model_id": "",
       "version_major": 2,
       "version_minor": 0
      },
      "text/plain": [
       "0 examples [00:00, ? examples/s]"
      ]
     },
     "metadata": {},
     "output_type": "display_data"
    },
    {
     "name": "stdout",
     "output_type": "stream",
     "text": [
      "Generating examples from: %s newstest2014\n",
      "Dataset wmt14 downloaded and prepared to /home/i058959/workspace/dataset/cache/wmt14/de-en/1.0.0/3d7d25048da28a2f2a8dda5ca306bdc4affcf02bbcb3d277cfe2d5d7b1d71ebc. Subsequent calls will reuse this data.\n"
     ]
    },
    {
     "data": {
      "application/vnd.jupyter.widget-view+json": {
       "model_id": "7ff4fbfc75d545dc8cf42c60c258f02b",
       "version_major": 2,
       "version_minor": 0
      },
      "text/plain": [
       "  0%|          | 0/3 [00:00<?, ?it/s]"
      ]
     },
     "metadata": {},
     "output_type": "display_data"
    }
   ],
   "source": [
    "# how to load dataset, refer to https://huggingface.co/docs/datasets/quicktour.html\n",
    "# https://paperswithcode.com/paper/incorporating-bert-into-neural-machine-1\n",
    "# https://colab.research.google.com/github/huggingface/datasets/blob/master/notebooks/Overview.ipynb\n",
    "from datasets import list_datasets, load_dataset, list_metrics, load_metric\n",
    "\n",
    "complete=False\n",
    "while not complete:\n",
    "    try:\n",
    "        choice=int(input(\"Enter 0 caching in ~/.cache/huggingface or 1 in ~/workspace/dataset/cache: \\n\"))\n",
    "        if choice in range(2):\n",
    "            complete=True\n",
    "    except ValueError:\n",
    "        pass\n",
    "        \n",
    "if not choice:\n",
    "    dataset_wmt14_de_en = load_dataset('wmt14', 'de-en')\n",
    "else:\n",
    "    dataset_wmt14_de_en = load_dataset('wmt14', 'de-en', cache_dir='~/workspace/dataset/cache')"
   ]
  },
  {
   "cell_type": "code",
   "execution_count": 2,
   "id": "potential-picture",
   "metadata": {},
   "outputs": [],
   "source": [
    "## temp.ly not need \n",
    "# if not choice:\n",
    "#     dataset_wmt19_de_en = load_dataset('wmt19', 'de-en')\n",
    "# else:\n",
    "#     dataset_wmt19_de_en = load_dataset('wmt19', 'de-en', cache_dir='~/workspace/dataset/cache')"
   ]
  },
  {
   "cell_type": "code",
   "execution_count": null,
   "id": "understood-nothing",
   "metadata": {},
   "outputs": [],
   "source": []
  }
 ],
 "metadata": {
  "kernelspec": {
   "display_name": "Python 3",
   "language": "python",
   "name": "python3"
  },
  "language_info": {
   "codemirror_mode": {
    "name": "ipython",
    "version": 3
   },
   "file_extension": ".py",
   "mimetype": "text/x-python",
   "name": "python",
   "nbconvert_exporter": "python",
   "pygments_lexer": "ipython3",
   "version": "3.8.8"
  }
 },
 "nbformat": 4,
 "nbformat_minor": 5
}
