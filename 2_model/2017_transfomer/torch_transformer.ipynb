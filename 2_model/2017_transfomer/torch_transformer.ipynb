{
 "cells": [
  {
   "cell_type": "markdown",
   "id": "edd4c583",
   "metadata": {},
   "source": [
    "# Transformer via torch\n",
    "\n",
    "Original paper: \n",
    "* https://arxiv.org/pdf/1706.03762.pdf  \n",
    "\n",
    "Paper and implementation: \n",
    "* https://paperswithcode.com/paper/attention-is-all-you-need  \n",
    "\n",
    "Dataset:  \n",
    "* https://paperswithcode.com/dataset/wmt-2014  \n",
    "* explore dataset here https://huggingface.co/datasets/viewer/?dataset=wmt19  \n",
    "\n",
    "We use https://huggingface.co/datasets/wmt14 for transformer purpose.  \n",
    "More see in https://huggingface.co/models  \n",
    "\n",
    "Reference implementation: \n",
    "* Baseline provided by pytorch: https://pytorch.org/hub/pytorch_fairseq_translation/  \n",
    "* https://github.com/tensorflow/tensor2tensor/blob/master/tensor2tensor/models/transformer.py\n",
    "* https://github.com/jadore801120/attention-is-all-you-need-pytorch"
   ]
  },
  {
   "cell_type": "code",
   "execution_count": 1,
   "id": "78981a86",
   "metadata": {},
   "outputs": [],
   "source": [
    "! export http_proxy=http://proxy.sha.sap.corp:8080\n",
    "! export https_proxy=http://proxy.sha.sap.corp:8080"
   ]
  },
  {
   "cell_type": "code",
   "execution_count": 2,
   "id": "3e94f640",
   "metadata": {},
   "outputs": [],
   "source": [
    "# how to load dataset, refer to https://huggingface.co/docs/datasets/quicktour.html\n",
    "# https://paperswithcode.com/paper/incorporating-bert-into-neural-machine-1\n",
    "# https://colab.research.google.com/github/huggingface/datasets/blob/master/notebooks/Overview.ipynb\n",
    "from datasets import list_datasets, load_dataset, list_metrics, load_metric"
   ]
  },
  {
   "cell_type": "code",
   "execution_count": 3,
   "id": "fedbe0d3",
   "metadata": {},
   "outputs": [
    {
     "name": "stderr",
     "output_type": "stream",
     "text": [
      "Using the latest cached version of the module from /home/i058959/.cache/huggingface/modules/datasets_modules/datasets/wmt14/d239eaf0ff090d28da19b6bc9758e24634d84de0a1ef092f0b5c54e6f132d7e2 (last modified on Fri Oct 15 16:53:57 2021) since it couldn't be found locally at wmt14, or remotely on the Hugging Face Hub.\n"
     ]
    },
    {
     "name": "stdout",
     "output_type": "stream",
     "text": [
      "Downloading and preparing dataset wmt14/de-en to /home/i058959/.cache/huggingface/datasets/wmt14___wmt14)/de-en/1.0.0/d239eaf0ff090d28da19b6bc9758e24634d84de0a1ef092f0b5c54e6f132d7e2...\n"
     ]
    },
    {
     "data": {
      "application/vnd.jupyter.widget-view+json": {
       "model_id": "fed0e2de3b634468b32c7324fffc333b",
       "version_major": 2,
       "version_minor": 0
      },
      "text/plain": [
       "  0%|          | 0/5 [00:00<?, ?it/s]"
      ]
     },
     "metadata": {},
     "output_type": "display_data"
    },
    {
     "data": {
      "application/vnd.jupyter.widget-view+json": {
       "model_id": "4b5c39dd204a401cb205d1db8906dde1",
       "version_major": 2,
       "version_minor": 0
      },
      "text/plain": [
       "  0%|          | 0/5 [00:00<?, ?it/s]"
      ]
     },
     "metadata": {},
     "output_type": "display_data"
    },
    {
     "data": {
      "application/vnd.jupyter.widget-view+json": {
       "model_id": "1b2591dcaded4dfe8b4f2b1b708af980",
       "version_major": 2,
       "version_minor": 0
      },
      "text/plain": [
       "0it [00:00, ?it/s]"
      ]
     },
     "metadata": {},
     "output_type": "display_data"
    },
    {
     "data": {
      "application/vnd.jupyter.widget-view+json": {
       "model_id": "",
       "version_major": 2,
       "version_minor": 0
      },
      "text/plain": [
       "0 examples [00:00, ? examples/s]"
      ]
     },
     "metadata": {},
     "output_type": "display_data"
    },
    {
     "data": {
      "application/vnd.jupyter.widget-view+json": {
       "model_id": "",
       "version_major": 2,
       "version_minor": 0
      },
      "text/plain": [
       "0 examples [00:00, ? examples/s]"
      ]
     },
     "metadata": {},
     "output_type": "display_data"
    },
    {
     "data": {
      "application/vnd.jupyter.widget-view+json": {
       "model_id": "",
       "version_major": 2,
       "version_minor": 0
      },
      "text/plain": [
       "0 examples [00:00, ? examples/s]"
      ]
     },
     "metadata": {},
     "output_type": "display_data"
    },
    {
     "name": "stdout",
     "output_type": "stream",
     "text": [
      "Dataset wmt14 downloaded and prepared to /home/i058959/.cache/huggingface/datasets/wmt14___wmt14)/de-en/1.0.0/d239eaf0ff090d28da19b6bc9758e24634d84de0a1ef092f0b5c54e6f132d7e2. Subsequent calls will reuse this data.\n"
     ]
    },
    {
     "data": {
      "application/vnd.jupyter.widget-view+json": {
       "model_id": "0b5535eb478f454488954fc1e0fdb745",
       "version_major": 2,
       "version_minor": 0
      },
      "text/plain": [
       "  0%|          | 0/3 [00:00<?, ?it/s]"
      ]
     },
     "metadata": {},
     "output_type": "display_data"
    }
   ],
   "source": [
    "dataset_wmt14_de_en = load_dataset('wmt14', 'de-en')"
   ]
  },
  {
   "cell_type": "code",
   "execution_count": null,
   "id": "59500de3",
   "metadata": {},
   "outputs": [
    {
     "name": "stdout",
     "output_type": "stream",
     "text": [
      "Downloading and preparing dataset wmt19/de-en to /home/i058959/.cache/huggingface/datasets/wmt19/de-en/1.0.0/fae232cf0c13b62b26731bafce0810bc652fb5799189790bed836db0cee28056...\n"
     ]
    },
    {
     "data": {
      "application/vnd.jupyter.widget-view+json": {
       "model_id": "89cf0219ab52426e92b8b762df5d4b68",
       "version_major": 2,
       "version_minor": 0
      },
      "text/plain": [
       "  0%|          | 0/7 [00:00<?, ?it/s]"
      ]
     },
     "metadata": {},
     "output_type": "display_data"
    },
    {
     "data": {
      "application/vnd.jupyter.widget-view+json": {
       "model_id": "af1eaa31adcb4a64bbef8e43ae10e460",
       "version_major": 2,
       "version_minor": 0
      },
      "text/plain": [
       "Downloading:   0%|          | 0.00/204M [00:00<?, ?B/s]"
      ]
     },
     "metadata": {},
     "output_type": "display_data"
    },
    {
     "data": {
      "application/vnd.jupyter.widget-view+json": {
       "model_id": "032ccbefec36435ea4a6521772271bb4",
       "version_major": 2,
       "version_minor": 0
      },
      "text/plain": [
       "Downloading:   0%|          | 0.00/9.09G [00:00<?, ?B/s]"
      ]
     },
     "metadata": {},
     "output_type": "display_data"
    }
   ],
   "source": [
    "dataset_wmt19_de_en = load_dataset('wmt19', 'de-en')"
   ]
  },
  {
   "cell_type": "code",
   "execution_count": null,
   "id": "1b080cde",
   "metadata": {},
   "outputs": [],
   "source": []
  }
 ],
 "metadata": {
  "kernelspec": {
   "display_name": "Python 3",
   "language": "python",
   "name": "python3"
  },
  "language_info": {
   "codemirror_mode": {
    "name": "ipython",
    "version": 3
   },
   "file_extension": ".py",
   "mimetype": "text/x-python",
   "name": "python",
   "nbconvert_exporter": "python",
   "pygments_lexer": "ipython3",
   "version": "3.8.8"
  }
 },
 "nbformat": 4,
 "nbformat_minor": 5
}
