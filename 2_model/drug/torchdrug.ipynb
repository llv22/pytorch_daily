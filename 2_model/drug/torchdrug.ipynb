{
 "cells": [
  {
   "cell_type": "code",
   "execution_count": null,
   "id": "raising-relaxation",
   "metadata": {},
   "outputs": [],
   "source": [
    "import torchdrug as td\n",
    "from torchdrug import data\n",
    "\n",
    "edge_list = [[0, 1], [1, 2], [2, 3], [3, 4], [4, 5], [5, 0]]\n",
    "graph = data.Graph(edge_list, num_node=6)\n",
    "graph = graph.cuda()\n",
    "graph.visualize()"
   ]
  },
  {
   "cell_type": "code",
   "execution_count": null,
   "id": "after-entertainment",
   "metadata": {},
   "outputs": [],
   "source": []
  }
 ],
 "metadata": {
  "kernelspec": {
   "display_name": "Python 3 (ipykernel)",
   "language": "python",
   "name": "python3"
  },
  "language_info": {
   "codemirror_mode": {
    "name": "ipython",
    "version": 3
   },
   "file_extension": ".py",
   "mimetype": "text/x-python",
   "name": "python",
   "nbconvert_exporter": "python",
   "pygments_lexer": "ipython3",
   "version": "3.8.8"
  }
 },
 "nbformat": 4,
 "nbformat_minor": 5
}
