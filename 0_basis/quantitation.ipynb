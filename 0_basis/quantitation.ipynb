{
 "cells": [
  {
   "cell_type": "markdown",
   "id": "8cb4007f",
   "metadata": {},
   "source": [
    "# FX Graph Mode Quantitation\n",
    "Reference:\n",
    "* https://mp.weixin.qq.com/s/vW22YBQ2FlE8KKs0LxijIg"
   ]
  },
  {
   "cell_type": "code",
   "execution_count": null,
   "id": "3150a3bf",
   "metadata": {},
   "outputs": [],
   "source": [
    "import torch\n",
    "from torch import nn\n",
    "from torch.quantization import get_default_qconfig, quantize_jit\n",
    "from torch.quantization.quantize_fx import prepare_fx, convert_fx"
   ]
  },
  {
   "cell_type": "code",
   "execution_count": null,
   "id": "05cbdb5d",
   "metadata": {},
   "outputs": [],
   "source": [
    "class NetQuant(nn.Module):\n",
    "\n",
    "    def __init__(self, num_channels=1):\n",
    "        super(NetQuant, self).__init__()\n",
    "        self.conv1 = nn.Conv2d(num_channels, 40, 3, 1)\n",
    "        self.relu1 = nn.ReLU()\n",
    "        self.pool1 = nn.MaxPool2d(2, 2)\n",
    "        self.conv2 = nn.Conv2d(40, 40, 3, 1)\n",
    "        self.relu2 = nn.ReLU()\n",
    "        self.pool2 = nn.MaxPool2d(2, 2)\n",
    "        self.fc = nn.Linear(5*5*40, 10)\n",
    "\n",
    "        self.quant = torch.quantization.QuantStub()\n",
    "        self.dequant = torch.quantization.DeQuantStub()\n",
    "\n",
    "    def forward(self, x):\n",
    "        x = self.quant(x)\n",
    "        x = self.relu1(self.conv1(x))\n",
    "        x = self.pool1(x)\n",
    "        x = self.relu2(self.conv2(x))\n",
    "        x = self.pool2(x)\n",
    "        x = x.reshape(-1, 5*5*40)\n",
    "        x = self.fc(x)\n",
    "        x = self.dequant(x)\n",
    "        return x"
   ]
  },
  {
   "cell_type": "code",
   "execution_count": null,
   "id": "c9275f5c",
   "metadata": {},
   "outputs": [],
   "source": [
    "model = NetQuant()\n",
    "model.qconfig = torch.quantization.get_default_qconfig('fbgemm')\n",
    "modules_to_fuse = [['conv1', 'relu1'], ['conv2', 'relu2']]  # 指定合并layer的名字\n",
    "model_fused = torch.quantization.fuse_modules(model, modules_to_fuse)\n",
    "model_prepared = torch.quantization.prepare(model_fused)\n",
    "post_training_quantize(model_prepared, train_loader)   # 这一步是做后训练量化\n",
    "model_int8 = torch.quantization.convert(model_prepared)"
   ]
  },
  {
   "cell_type": "code",
   "execution_count": null,
   "id": "c13e90e2",
   "metadata": {},
   "outputs": [],
   "source": [
    "class Net(nn.Module):\n",
    "\n",
    "    def __init__(self, num_channels=1):\n",
    "        super(Net, self).__init__()\n",
    "        self.conv1 = nn.Conv2d(num_channels, 40, 3, 1)\n",
    "        self.conv2 = nn.Conv2d(40, 40, 3, 1)\n",
    "        self.fc = nn.Linear(5*5*40, 10)\n",
    "\n",
    "    def forward(self, x):\n",
    "        x = F.relu(self.conv1(x))\n",
    "        x = F.max_pool2d(x, 2, 2)\n",
    "        x = F.relu(self.conv2(x))\n",
    "        x = F.max_pool2d(x, 2, 2)\n",
    "        x = x.reshape(-1, 5*5*40)\n",
    "        x = self.fc(x)\n",
    "        return x"
   ]
  },
  {
   "cell_type": "code",
   "execution_count": null,
   "id": "5d92ad49",
   "metadata": {},
   "outputs": [],
   "source": [
    "model = Net()  \n",
    "qconfig = get_default_qconfig(\"fbgemm\")\n",
    "qconfig_dict = {\"\": qconfig}\n",
    "model_prepared = prepare_fx(model, qconfig_dict)\n",
    "post_training_quantize(model_prepared, train_loader)      # 这一步是做后训练量化\n",
    "model_int8 = convert_fx(model_prepared)"
   ]
  },
  {
   "cell_type": "code",
   "execution_count": null,
   "id": "4bdb692d",
   "metadata": {},
   "outputs": [],
   "source": []
  }
 ],
 "metadata": {
  "kernelspec": {
   "display_name": "Python 3",
   "language": "python",
   "name": "python3"
  },
  "language_info": {
   "codemirror_mode": {
    "name": "ipython",
    "version": 3
   },
   "file_extension": ".py",
   "mimetype": "text/x-python",
   "name": "python",
   "nbconvert_exporter": "python",
   "pygments_lexer": "ipython3",
   "version": "3.8.8"
  }
 },
 "nbformat": 4,
 "nbformat_minor": 5
}
