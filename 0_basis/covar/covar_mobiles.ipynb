{
 "cells": [
  {
   "cell_type": "markdown",
   "id": "dried-magic",
   "metadata": {},
   "source": [
    "# Understanding Conditional Variance and Conditional Covariance\n",
    "Reference:\n",
    "* https://towardsdatascience.com/understanding-conditional-variance-and-conditional-covariance-8b661067fc18"
   ]
  },
  {
   "cell_type": "code",
   "execution_count": 1,
   "id": "sporting-surname",
   "metadata": {},
   "outputs": [],
   "source": [
    "import pandas as pd\n",
    "from patsy import dmatrices\n",
    "import numpy as np\n",
    "import scipy.stats\n",
    "import statsmodels.api as sm\n",
    "import matplotlib.pyplot as plt"
   ]
  },
  {
   "cell_type": "code",
   "execution_count": 2,
   "id": "latter-jackson",
   "metadata": {},
   "outputs": [
    {
     "data": {
      "text/html": [
       "<div>\n",
       "<style scoped>\n",
       "    .dataframe tbody tr th:only-of-type {\n",
       "        vertical-align: middle;\n",
       "    }\n",
       "\n",
       "    .dataframe tbody tr th {\n",
       "        vertical-align: top;\n",
       "    }\n",
       "\n",
       "    .dataframe thead th {\n",
       "        text-align: right;\n",
       "    }\n",
       "</style>\n",
       "<table border=\"1\" class=\"dataframe\">\n",
       "  <thead>\n",
       "    <tr style=\"text-align: right;\">\n",
       "      <th></th>\n",
       "      <th>City_MPG</th>\n",
       "      <th>Curb_Weight</th>\n",
       "      <th>Vehicle_Volume</th>\n",
       "      <th>Num_Cylinders</th>\n",
       "      <th>Vehicle_Price</th>\n",
       "      <th>Engine_Size</th>\n",
       "    </tr>\n",
       "  </thead>\n",
       "  <tbody>\n",
       "    <tr>\n",
       "      <th>0</th>\n",
       "      <td>21</td>\n",
       "      <td>2548</td>\n",
       "      <td>528019.904</td>\n",
       "      <td>4</td>\n",
       "      <td>13495.0</td>\n",
       "      <td>130</td>\n",
       "    </tr>\n",
       "    <tr>\n",
       "      <th>1</th>\n",
       "      <td>21</td>\n",
       "      <td>2548</td>\n",
       "      <td>528019.904</td>\n",
       "      <td>4</td>\n",
       "      <td>16500.0</td>\n",
       "      <td>130</td>\n",
       "    </tr>\n",
       "    <tr>\n",
       "      <th>2</th>\n",
       "      <td>19</td>\n",
       "      <td>2823</td>\n",
       "      <td>587592.640</td>\n",
       "      <td>6</td>\n",
       "      <td>16500.0</td>\n",
       "      <td>152</td>\n",
       "    </tr>\n",
       "    <tr>\n",
       "      <th>3</th>\n",
       "      <td>24</td>\n",
       "      <td>2337</td>\n",
       "      <td>634816.956</td>\n",
       "      <td>4</td>\n",
       "      <td>13950.0</td>\n",
       "      <td>109</td>\n",
       "    </tr>\n",
       "    <tr>\n",
       "      <th>4</th>\n",
       "      <td>18</td>\n",
       "      <td>2824</td>\n",
       "      <td>636734.832</td>\n",
       "      <td>5</td>\n",
       "      <td>17450.0</td>\n",
       "      <td>136</td>\n",
       "    </tr>\n",
       "  </tbody>\n",
       "</table>\n",
       "</div>"
      ],
      "text/plain": [
       "   City_MPG  Curb_Weight  Vehicle_Volume  Num_Cylinders  Vehicle_Price  \\\n",
       "0        21         2548      528019.904              4        13495.0   \n",
       "1        21         2548      528019.904              4        16500.0   \n",
       "2        19         2823      587592.640              6        16500.0   \n",
       "3        24         2337      634816.956              4        13950.0   \n",
       "4        18         2824      636734.832              5        17450.0   \n",
       "\n",
       "   Engine_Size  \n",
       "0          130  \n",
       "1          130  \n",
       "2          152  \n",
       "3          109  \n",
       "4          136  "
      ]
     },
     "execution_count": 2,
     "metadata": {},
     "output_type": "execute_result"
    }
   ],
   "source": [
    "#Read the automobiles dataset into a Pandas DataFrame\n",
    "df = pd.read_csv('automobile_uciml_6vars.csv', header=0)\n",
    "df.rename(columns={\"Num_Cyclinders\":\"Num_Cylinders\"}, inplace=True)\n",
    "#Drop all empty rows\n",
    "df = df.dropna()\n",
    "df.head(5)"
   ]
  },
  {
   "cell_type": "code",
   "execution_count": 3,
   "id": "massive-algorithm",
   "metadata": {},
   "outputs": [
    {
     "data": {
      "text/html": [
       "<div>\n",
       "<style scoped>\n",
       "    .dataframe tbody tr th:only-of-type {\n",
       "        vertical-align: middle;\n",
       "    }\n",
       "\n",
       "    .dataframe tbody tr th {\n",
       "        vertical-align: top;\n",
       "    }\n",
       "\n",
       "    .dataframe thead th {\n",
       "        text-align: right;\n",
       "    }\n",
       "</style>\n",
       "<table border=\"1\" class=\"dataframe\">\n",
       "  <thead>\n",
       "    <tr style=\"text-align: right;\">\n",
       "      <th></th>\n",
       "      <th>City_MPG</th>\n",
       "      <th>Curb_Weight</th>\n",
       "      <th>Vehicle_Volume</th>\n",
       "      <th>Vehicle_Price</th>\n",
       "      <th>Engine_Size</th>\n",
       "    </tr>\n",
       "    <tr>\n",
       "      <th>Num_Cylinders</th>\n",
       "      <th></th>\n",
       "      <th></th>\n",
       "      <th></th>\n",
       "      <th></th>\n",
       "      <th></th>\n",
       "    </tr>\n",
       "  </thead>\n",
       "  <tbody>\n",
       "    <tr>\n",
       "      <th>2</th>\n",
       "      <td>16.750000</td>\n",
       "      <td>2411.250000</td>\n",
       "      <td>550723.680000</td>\n",
       "      <td>13020.000000</td>\n",
       "      <td>72.500000</td>\n",
       "    </tr>\n",
       "    <tr>\n",
       "      <th>3</th>\n",
       "      <td>47.000000</td>\n",
       "      <td>1488.000000</td>\n",
       "      <td>452643.156000</td>\n",
       "      <td>5151.000000</td>\n",
       "      <td>61.000000</td>\n",
       "    </tr>\n",
       "    <tr>\n",
       "      <th>4</th>\n",
       "      <td>26.980892</td>\n",
       "      <td>2400.923567</td>\n",
       "      <td>605345.272987</td>\n",
       "      <td>10303.197452</td>\n",
       "      <td>113.089172</td>\n",
       "    </tr>\n",
       "    <tr>\n",
       "      <th>5</th>\n",
       "      <td>19.900000</td>\n",
       "      <td>3140.600000</td>\n",
       "      <td>731452.330800</td>\n",
       "      <td>22007.600000</td>\n",
       "      <td>154.300000</td>\n",
       "    </tr>\n",
       "    <tr>\n",
       "      <th>6</th>\n",
       "      <td>18.291667</td>\n",
       "      <td>3133.958333</td>\n",
       "      <td>657180.528167</td>\n",
       "      <td>23671.833333</td>\n",
       "      <td>185.291667</td>\n",
       "    </tr>\n",
       "    <tr>\n",
       "      <th>8</th>\n",
       "      <td>15.000000</td>\n",
       "      <td>3760.000000</td>\n",
       "      <td>776761.442250</td>\n",
       "      <td>38900.000000</td>\n",
       "      <td>270.000000</td>\n",
       "    </tr>\n",
       "    <tr>\n",
       "      <th>12</th>\n",
       "      <td>13.000000</td>\n",
       "      <td>3950.000000</td>\n",
       "      <td>646926.156000</td>\n",
       "      <td>36000.000000</td>\n",
       "      <td>326.000000</td>\n",
       "    </tr>\n",
       "  </tbody>\n",
       "</table>\n",
       "</div>"
      ],
      "text/plain": [
       "                City_MPG  Curb_Weight  Vehicle_Volume  Vehicle_Price  \\\n",
       "Num_Cylinders                                                          \n",
       "2              16.750000  2411.250000   550723.680000   13020.000000   \n",
       "3              47.000000  1488.000000   452643.156000    5151.000000   \n",
       "4              26.980892  2400.923567   605345.272987   10303.197452   \n",
       "5              19.900000  3140.600000   731452.330800   22007.600000   \n",
       "6              18.291667  3133.958333   657180.528167   23671.833333   \n",
       "8              15.000000  3760.000000   776761.442250   38900.000000   \n",
       "12             13.000000  3950.000000   646926.156000   36000.000000   \n",
       "\n",
       "               Engine_Size  \n",
       "Num_Cylinders               \n",
       "2                72.500000  \n",
       "3                61.000000  \n",
       "4               113.089172  \n",
       "5               154.300000  \n",
       "6               185.291667  \n",
       "8               270.000000  \n",
       "12              326.000000  "
      ]
     },
     "execution_count": 3,
     "metadata": {},
     "output_type": "execute_result"
    }
   ],
   "source": [
    "#Group the DataFrame by Num_Cylinders and calculate the mean for each group\n",
    "df_grouped_means = df.groupby(['Num_Cylinders']).mean()\n",
    "df_grouped_means"
   ]
  },
  {
   "cell_type": "code",
   "execution_count": 4,
   "id": "worse-objective",
   "metadata": {},
   "outputs": [
    {
     "data": {
      "image/png": "[encoded data removed]",
      "text/plain": [
       "<Figure size 432x288 with 1 Axes>"
      ]
     },
     "metadata": {
      "needs_background": "light"
     },
     "output_type": "display_data"
    }
   ],
   "source": [
    "#Plot Engine_Size versus Num_Cylinders\n",
    "fig = plt.figure()\n",
    "fig.suptitle('Engine_Size versus Num_Cylinders')\n",
    "plt.xlabel('Num_Cylinders')\n",
    "plt.ylabel('Engine_Size')\n",
    "plt.scatter(df['Num_Cylinders'], df['Engine_Size'])\n",
    "#Plot a horizontal mean line\n",
    "plt.plot([0, df['Num_Cylinders'].max()], [df['Engine_Size'].mean(), df['Engine_Size'].mean()], \n",
    "         [df['Engine_Size'].mean()], color='red', linestyle='dashed')\n",
    "#Plot the group-specific means of Engine_Size\n",
    "for i in df_grouped_means.index:\n",
    "    mean = df_grouped_means['Engine_Size'].loc[i]\n",
    "    plt.plot(i, mean, color='red', marker='o')\n",
    "plt.show()"
   ]
  },
  {
   "cell_type": "code",
   "execution_count": 5,
   "id": "decimal-reflection",
   "metadata": {},
   "outputs": [
    {
     "name": "stdout",
     "output_type": "stream",
     "text": [
      "(Unconditional) sample variance in Engine_Size=1726.1394527363184\n"
     ]
    }
   ],
   "source": [
    "unconditional_variance_engine_size = df['Engine_Size'].var()\n",
    "print(f'(Unconditional) sample variance in Engine_Size={str(unconditional_variance_engine_size)}')"
   ]
  },
  {
   "cell_type": "code",
   "execution_count": 8,
   "id": "adjustable-ballot",
   "metadata": {},
   "outputs": [
    {
     "name": "stdout",
     "output_type": "stream",
     "text": [
      "Conditional variance in Engine_Size=167.4257832903994\n"
     ]
    }
   ],
   "source": [
    "#Construct the regression expression. A regression intercept is included by default\n",
    "olsr_expr = 'Engine_Size ~ Curb_Weight + Vehicle_Volume + Num_Cylinders'\n",
    "#Carve out the y and X matrices based on the regression expression\n",
    "y, X = dmatrices(olsr_expr, df, return_type='dataframe')\n",
    "#Build the OLS linear regression model\n",
    "olsr_model = sm.OLS(endog=y, exog=X)\n",
    "#Train the model\n",
    "olsr_model_results = olsr_model.fit()\n",
    "#Make the predictions on the training data set. These are the conditional expectations of y\n",
    "y_pred=olsr_model_results.predict(X)\n",
    "y_pred=np.array(y_pred)\n",
    "#Convert y from a Pandas DataFrame into an array\n",
    "y=np.array(y['Engine_Size'])\n",
    "#Calculate the conditional variance in Engine_Size using equation (2)\n",
    "conditional_variance_engine_size = np.sum(np.square(y-y_pred))/(len(y)-1)\n",
    "print('Conditional variance in Engine_Size='+str(conditional_variance_engine_size))"
   ]
  },
  {
   "cell_type": "code",
   "execution_count": 9,
   "id": "unsigned-player",
   "metadata": {},
   "outputs": [
    {
     "name": "stdout",
     "output_type": "stream",
     "text": [
      "R-squared of Engine_Size: 0.9030056447496221\n"
     ]
    }
   ],
   "source": [
    "print(f'R-squared of Engine_Size: {1-conditional_variance_engine_size/unconditional_variance_engine_size}')"
   ]
  },
  {
   "cell_type": "code",
   "execution_count": 17,
   "id": "infrared-xerox",
   "metadata": {},
   "outputs": [
    {
     "data": {
      "text/html": [
       "<table class=\"simpletable\">\n",
       "<caption>OLS Regression Results</caption>\n",
       "<tr>\n",
       "  <th>Dep. Variable:</th>       <td>Engine_Size</td>   <th>  R-squared:         </th> <td>   0.903</td>\n",
       "</tr>\n",
       "<tr>\n",
       "  <th>Model:</th>                   <td>OLS</td>       <th>  Adj. R-squared:    </th> <td>   0.902</td>\n",
       "</tr>\n",
       "<tr>\n",
       "  <th>Method:</th>             <td>Least Squares</td>  <th>  F-statistic:       </th> <td>   611.3</td>\n",
       "</tr>\n",
       "<tr>\n",
       "  <th>Date:</th>             <td>Wed, 27 Apr 2022</td> <th>  Prob (F-statistic):</th> <td>1.67e-99</td>\n",
       "</tr>\n",
       "<tr>\n",
       "  <th>Time:</th>                 <td>13:17:59</td>     <th>  Log-Likelihood:    </th> <td> -799.32</td>\n",
       "</tr>\n",
       "<tr>\n",
       "  <th>No. Observations:</th>      <td>   201</td>      <th>  AIC:               </th> <td>   1607.</td>\n",
       "</tr>\n",
       "<tr>\n",
       "  <th>Df Residuals:</th>          <td>   197</td>      <th>  BIC:               </th> <td>   1620.</td>\n",
       "</tr>\n",
       "<tr>\n",
       "  <th>Df Model:</th>              <td>     3</td>      <th>                     </th>     <td> </td>   \n",
       "</tr>\n",
       "<tr>\n",
       "  <th>Covariance Type:</th>      <td>nonrobust</td>    <th>                     </th>     <td> </td>   \n",
       "</tr>\n",
       "</table>\n",
       "<table class=\"simpletable\">\n",
       "<tr>\n",
       "         <td></td>           <th>coef</th>     <th>std err</th>      <th>t</th>      <th>P>|t|</th>  <th>[0.025</th>    <th>0.975]</th>  \n",
       "</tr>\n",
       "<tr>\n",
       "  <th>Intercept</th>      <td>  -49.4314</td> <td>    8.171</td> <td>   -6.050</td> <td> 0.000</td> <td>  -65.545</td> <td>  -33.318</td>\n",
       "</tr>\n",
       "<tr>\n",
       "  <th>Curb_Weight</th>    <td>    0.0530</td> <td>    0.004</td> <td>   14.115</td> <td> 0.000</td> <td>    0.046</td> <td>    0.060</td>\n",
       "</tr>\n",
       "<tr>\n",
       "  <th>Vehicle_Volume</th> <td>-7.257e-05</td> <td>  2.1e-05</td> <td>   -3.452</td> <td> 0.001</td> <td>   -0.000</td> <td>-3.11e-05</td>\n",
       "</tr>\n",
       "<tr>\n",
       "  <th>Num_Cylinders</th>  <td>   19.6494</td> <td>    1.131</td> <td>   17.371</td> <td> 0.000</td> <td>   17.419</td> <td>   21.880</td>\n",
       "</tr>\n",
       "</table>\n",
       "<table class=\"simpletable\">\n",
       "<tr>\n",
       "  <th>Omnibus:</th>       <td>29.090</td> <th>  Durbin-Watson:     </th> <td>   1.251</td>\n",
       "</tr>\n",
       "<tr>\n",
       "  <th>Prob(Omnibus):</th> <td> 0.000</td> <th>  Jarque-Bera (JB):  </th> <td> 151.658</td>\n",
       "</tr>\n",
       "<tr>\n",
       "  <th>Skew:</th>          <td> 0.296</td> <th>  Prob(JB):          </th> <td>1.17e-33</td>\n",
       "</tr>\n",
       "<tr>\n",
       "  <th>Kurtosis:</th>      <td> 7.214</td> <th>  Cond. No.          </th> <td>5.56e+06</td>\n",
       "</tr>\n",
       "</table><br/><br/>Notes:<br/>[1] Standard Errors assume that the covariance matrix of the errors is correctly specified.<br/>[2] The condition number is large, 5.56e+06. This might indicate that there are<br/>strong multicollinearity or other numerical problems."
      ],
      "text/plain": [
       "<class 'statsmodels.iolib.summary.Summary'>\n",
       "\"\"\"\n",
       "                            OLS Regression Results                            \n",
       "==============================================================================\n",
       "Dep. Variable:            Engine_Size   R-squared:                       0.903\n",
       "Model:                            OLS   Adj. R-squared:                  0.902\n",
       "Method:                 Least Squares   F-statistic:                     611.3\n",
       "Date:                Wed, 27 Apr 2022   Prob (F-statistic):           1.67e-99\n",
       "Time:                        13:17:59   Log-Likelihood:                -799.32\n",
       "No. Observations:                 201   AIC:                             1607.\n",
       "Df Residuals:                     197   BIC:                             1620.\n",
       "Df Model:                           3                                         \n",
       "Covariance Type:            nonrobust                                         \n",
       "==================================================================================\n",
       "                     coef    std err          t      P>|t|      [0.025      0.975]\n",
       "----------------------------------------------------------------------------------\n",
       "Intercept        -49.4314      8.171     -6.050      0.000     -65.545     -33.318\n",
       "Curb_Weight        0.0530      0.004     14.115      0.000       0.046       0.060\n",
       "Vehicle_Volume -7.257e-05    2.1e-05     -3.452      0.001      -0.000   -3.11e-05\n",
       "Num_Cylinders     19.6494      1.131     17.371      0.000      17.419      21.880\n",
       "==============================================================================\n",
       "Omnibus:                       29.090   Durbin-Watson:                   1.251\n",
       "Prob(Omnibus):                  0.000   Jarque-Bera (JB):              151.658\n",
       "Skew:                           0.296   Prob(JB):                     1.17e-33\n",
       "Kurtosis:                       7.214   Cond. No.                     5.56e+06\n",
       "==============================================================================\n",
       "\n",
       "Notes:\n",
       "[1] Standard Errors assume that the covariance matrix of the errors is correctly specified.\n",
       "[2] The condition number is large, 5.56e+06. This might indicate that there are\n",
       "strong multicollinearity or other numerical problems.\n",
       "\"\"\""
      ]
     },
     "execution_count": 17,
     "metadata": {},
     "output_type": "execute_result"
    }
   ],
   "source": [
    "olsr_model_results.summary()"
   ]
  },
  {
   "cell_type": "code",
   "execution_count": 20,
   "id": "enhanced-institution",
   "metadata": {},
   "outputs": [
    {
     "name": "stdout",
     "output_type": "stream",
     "text": [
      "Covariance between Curb_Weight and Engine_Size=18248.283333333326\n"
     ]
    }
   ],
   "source": [
    "covariance = df['Curb_Weight'].cov(df['Engine_Size'])\n",
    "print(f'Covariance between Curb_Weight and Engine_Size={covariance}')"
   ]
  },
  {
   "cell_type": "code",
   "execution_count": 21,
   "id": "pressed-nation",
   "metadata": {},
   "outputs": [
    {
     "data": {
      "image/png": "[encoded data removed]",
      "text/plain": [
       "<Figure size 432x288 with 1 Axes>"
      ]
     },
     "metadata": {
      "needs_background": "light"
     },
     "output_type": "display_data"
    }
   ],
   "source": [
    "#Plot mean-centered Curb_Weight versus Engine_Size\n",
    "fig = plt.figure()\n",
    "fig.suptitle('Mean centered Curb_Weight versus Engine_Size')\n",
    "plt.xlabel('Mean centered Engine_Size')\n",
    "plt.ylabel('Mean centered Curb_Weight')\n",
    "plt.scatter(df['Engine_Size']-df['Engine_Size'].mean(), df['Curb_Weight']-df['Curb_Weight'].mean())\n",
    "plt.show()"
   ]
  },
  {
   "cell_type": "code",
   "execution_count": 22,
   "id": "excited-recall",
   "metadata": {},
   "outputs": [
    {
     "name": "stdout",
     "output_type": "stream",
     "text": [
      "Conditional Covariance between Curb_Weight and Engine_Size=7789.498082862664\n"
     ]
    }
   ],
   "source": [
    "#Carve out the X and W matrices. An intercept is automatically added to W.\n",
    "X, W = dmatrices('Engine_Size ~ Vehicle_Volume', df, return_type='dataframe')\n",
    "#Regress X on W\n",
    "olsr_model_XW = sm.OLS(endog=X, exog=W)\n",
    "olsr_model_XW_results = olsr_model_XW.fit()\n",
    "#Get the conditional expectations E(X|W)\n",
    "X_pred=olsr_model_XW_results.predict(W)\n",
    "X_pred=np.array(X_pred)\n",
    "X=np.array(df['Engine_Size'])\n",
    "#Carve out the Z and W matrices\n",
    "Z, W = dmatrices('Curb_Weight ~ Vehicle_Volume', df, return_type='dataframe')\n",
    "#Regress Z on W\n",
    "olsr_model_ZW = sm.OLS(endog=Z, exog=W)\n",
    "olsr_model_ZW_results = olsr_model_ZW.fit()\n",
    "#Get the conditional expectations E(Z|W)\n",
    "Z_pred=olsr_model_ZW_results.predict(W)\n",
    "Z_pred=np.array(Z_pred)\n",
    "Z=np.array(df['Curb_Weight'])\n",
    "#Construct the delta matrices\n",
    "Z_delta=Z-Z_pred\n",
    "X_delta=X-X_pred\n",
    "\n",
    "#Calculate the conditional covariance\n",
    "conditional_variance = np.sum(Z_delta*X_delta)/(len(Z)-1)\n",
    "print(f'Conditional Covariance between Curb_Weight and Engine_Size={conditional_variance}')"
   ]
  },
  {
   "cell_type": "code",
   "execution_count": null,
   "id": "million-short",
   "metadata": {},
   "outputs": [],
   "source": []
  }
 ],
 "metadata": {
  "kernelspec": {
   "display_name": "Python 3 (ipykernel)",
   "language": "python",
   "name": "python3"
  },
  "language_info": {
   "codemirror_mode": {
    "name": "ipython",
    "version": 3
   },
   "file_extension": ".py",
   "mimetype": "text/x-python",
   "name": "python",
   "nbconvert_exporter": "python",
   "pygments_lexer": "ipython3",
   "version": "3.8.8"
  }
 },
 "nbformat": 4,
 "nbformat_minor": 5
}
