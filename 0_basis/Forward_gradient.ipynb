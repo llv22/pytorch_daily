{
 "cells": [
  {
   "cell_type": "code",
   "execution_count": 1,
   "id": "5a9682b3",
   "metadata": {},
   "outputs": [],
   "source": [
    "import numpy as np"
   ]
  },
  {
   "cell_type": "code",
   "execution_count": 2,
   "id": "185d2ed2",
   "metadata": {},
   "outputs": [],
   "source": [
    "# average for all theta via 0, 1 columns separately\n",
    "f1 = lambda theta: theta[:, 0]**2 + theta[:, 1]**2"
   ]
  },
  {
   "cell_type": "code",
   "execution_count": 3,
   "id": "86428965",
   "metadata": {},
   "outputs": [],
   "source": [
    "theta = np.array([[2, 1]])"
   ]
  },
  {
   "cell_type": "markdown",
   "id": "dbf410f3",
   "metadata": {},
   "source": [
    "# By definition"
   ]
  },
  {
   "cell_type": "code",
   "execution_count": 4,
   "id": "60387850",
   "metadata": {},
   "outputs": [
    {
     "data": {
      "text/plain": [
       "array([4.00001, 2.00001])"
      ]
     },
     "execution_count": 4,
     "metadata": {},
     "output_type": "execute_result"
    }
   ],
   "source": [
    "h = 1e-5\n",
    "v = np.array([[1, 0], [0, 1]])\n",
    "(f1(theta + h*v) - f1(theta))/h # approximate derivative"
   ]
  },
  {
   "cell_type": "markdown",
   "id": "ab373740",
   "metadata": {},
   "source": [
    "# By forward derivate via sampling\n",
    "$$\n",
    "\\nabla_{v} f(\\theta) = \\frac{f(\\theta + h \\cdot \\vec{v}) - f(\\theta)}{h}\n",
    "$$"
   ]
  },
  {
   "cell_type": "code",
   "execution_count": 5,
   "id": "fc5f3554",
   "metadata": {},
   "outputs": [],
   "source": [
    "np.random.seed(0) # set a seed to keep it reproducible\n",
    "v = np.random.randn(10000000, 2) # a million vectors of size 2\n",
    "grad_v_f = ((f1(theta + h*v) - f1(theta)) / h) # ∇ᵥf(θ)"
   ]
  },
  {
   "cell_type": "code",
   "execution_count": 6,
   "id": "ca5517a9",
   "metadata": {},
   "outputs": [
    {
     "data": {
      "text/plain": [
       "(10000000, 2)"
      ]
     },
     "execution_count": 6,
     "metadata": {},
     "output_type": "execute_result"
    }
   ],
   "source": [
    "(theta + h*v).shape"
   ]
  },
  {
   "cell_type": "code",
   "execution_count": 7,
   "id": "08566b43",
   "metadata": {},
   "outputs": [
    {
     "data": {
      "text/plain": [
       "(1, 2)"
      ]
     },
     "execution_count": 7,
     "metadata": {},
     "output_type": "execute_result"
    }
   ],
   "source": [
    "theta.shape"
   ]
  },
  {
   "cell_type": "code",
   "execution_count": 8,
   "id": "93f35643",
   "metadata": {},
   "outputs": [
    {
     "data": {
      "text/plain": [
       "(10000000,)"
      ]
     },
     "execution_count": 8,
     "metadata": {},
     "output_type": "execute_result"
    }
   ],
   "source": [
    "grad_v_f.shape"
   ]
  },
  {
   "cell_type": "code",
   "execution_count": 9,
   "id": "1a2f0dbe",
   "metadata": {},
   "outputs": [
    {
     "data": {
      "text/plain": [
       "(10000000, 2)"
      ]
     },
     "execution_count": 9,
     "metadata": {},
     "output_type": "execute_result"
    }
   ],
   "source": [
    "v.shape"
   ]
  },
  {
   "cell_type": "code",
   "execution_count": 10,
   "id": "1f10efee",
   "metadata": {},
   "outputs": [],
   "source": [
    "g = grad_v_f.reshape(-1, 1) * v # scale v with grad_f to compute g with shape (10000000, 2)"
   ]
  },
  {
   "cell_type": "code",
   "execution_count": 11,
   "id": "215c0d07",
   "metadata": {},
   "outputs": [
    {
     "data": {
      "text/plain": [
       "(10000000, 2)"
      ]
     },
     "execution_count": 11,
     "metadata": {},
     "output_type": "execute_result"
    }
   ],
   "source": [
    "g.shape"
   ]
  },
  {
   "cell_type": "code",
   "execution_count": 12,
   "id": "0aad90b6",
   "metadata": {},
   "outputs": [
    {
     "data": {
      "text/plain": [
       "array([3.99884249, 2.00074521])"
      ]
     },
     "execution_count": 12,
     "metadata": {},
     "output_type": "execute_result"
    }
   ],
   "source": [
    "g.mean(axis=0)"
   ]
  }
 ],
 "metadata": {
  "kernelspec": {
   "display_name": "Python 3",
   "language": "python",
   "name": "python3"
  },
  "language_info": {
   "codemirror_mode": {
    "name": "ipython",
    "version": 3
   },
   "file_extension": ".py",
   "mimetype": "text/x-python",
   "name": "python",
   "nbconvert_exporter": "python",
   "pygments_lexer": "ipython3",
   "version": "3.8.8"
  }
 },
 "nbformat": 4,
 "nbformat_minor": 5
}
