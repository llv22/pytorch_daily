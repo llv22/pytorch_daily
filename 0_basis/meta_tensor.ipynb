{
 "cells": [
  {
   "cell_type": "markdown",
   "id": "fd622c90",
   "metadata": {},
   "source": [
    "# Pytorch Meta Tensors\n",
    "Reference:\n",
    "* https://devblog.pytorchlightning.ai/experiment-with-billion-parameter-models-faster-using-deepspeed-and-meta-tensors-2e9c255edd71"
   ]
  },
  {
   "cell_type": "code",
   "execution_count": 1,
   "id": "91ba61e8",
   "metadata": {},
   "outputs": [],
   "source": [
    "import torch"
   ]
  },
  {
   "cell_type": "markdown",
   "id": "941dc847",
   "metadata": {},
   "source": [
    "## 1. On CPU"
   ]
  },
  {
   "cell_type": "code",
   "execution_count": 2,
   "id": "66b23bf1",
   "metadata": {},
   "outputs": [],
   "source": [
    "a_huge_tensor_on_cpu = torch.randn(1000, 1000, 3, 3)"
   ]
  },
  {
   "cell_type": "code",
   "execution_count": 3,
   "id": "11e8f6f3",
   "metadata": {},
   "outputs": [
    {
     "name": "stdout",
     "output_type": "stream",
     "text": [
      "CPU times: user 162 ms, sys: 17.2 ms, total: 179 ms\n",
      "Wall time: 12 ms\n"
     ]
    },
    {
     "data": {
      "text/plain": [
       "torch.Size([1000, 1000, 1, 1])"
      ]
     },
     "execution_count": 3,
     "metadata": {},
     "output_type": "execute_result"
    }
   ],
   "source": [
    "%time torch.nn.functional.max_pool2d(input=a_huge_tensor_on_cpu, kernel_size=3, stride=2).shape"
   ]
  },
  {
   "cell_type": "markdown",
   "id": "9df10ed4",
   "metadata": {},
   "source": [
    "## 2. On Meta"
   ]
  },
  {
   "cell_type": "code",
   "execution_count": 4,
   "id": "532f95a6",
   "metadata": {},
   "outputs": [],
   "source": [
    "a_huge_tensor_on_meta = torch.randn(1000, 1000, 3, 3, device=\"meta\")"
   ]
  },
  {
   "cell_type": "code",
   "execution_count": 5,
   "id": "2465398a",
   "metadata": {},
   "outputs": [
    {
     "name": "stdout",
     "output_type": "stream",
     "text": [
      "CPU times: user 3.47 ms, sys: 516 µs, total: 3.98 ms\n",
      "Wall time: 256 µs\n"
     ]
    },
    {
     "data": {
      "text/plain": [
       "torch.Size([1000, 1000, 1, 1])"
      ]
     },
     "execution_count": 5,
     "metadata": {},
     "output_type": "execute_result"
    }
   ],
   "source": [
    "%time torch.nn.functional.max_pool2d(input=a_huge_tensor_on_meta, kernel_size=3, stride=2).shape"
   ]
  },
  {
   "cell_type": "code",
   "execution_count": null,
   "id": "608b571f",
   "metadata": {},
   "outputs": [],
   "source": []
  }
 ],
 "metadata": {
  "kernelspec": {
   "display_name": "Python 3",
   "language": "python",
   "name": "python3"
  },
  "language_info": {
   "codemirror_mode": {
    "name": "ipython",
    "version": 3
   },
   "file_extension": ".py",
   "mimetype": "text/x-python",
   "name": "python",
   "nbconvert_exporter": "python",
   "pygments_lexer": "ipython3",
   "version": "3.8.8"
  }
 },
 "nbformat": 4,
 "nbformat_minor": 5
}
