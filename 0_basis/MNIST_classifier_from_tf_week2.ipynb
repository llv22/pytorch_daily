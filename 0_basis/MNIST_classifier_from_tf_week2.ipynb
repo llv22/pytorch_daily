{
 "cells": [
  {
   "cell_type": "markdown",
   "id": "afraid-popularity",
   "metadata": {},
   "source": [
    "# Programming Assignment\n",
    "\n",
    "This programming assignment is migrated from tensorflow 2.0 exercise, aiming at familiar with pytorch programming API\n",
    "\n",
    "Reference:\n",
    "* https://nextjournal.com/gkoehler/pytorch-mnist\n",
    "* https://pytorch.org/tutorials/beginner/basics/data_tutorial.html\n",
    "* https://pytorch.org/tutorials/beginner/basics/buildmodel_tutorial.html\n",
    "* https://blog.csdn.net/touristourist/article/details/100535544\n",
    "* Transform - https://pytorch.org/tutorials/beginner/data_loading_tutorial.html"
   ]
  },
  {
   "cell_type": "markdown",
   "id": "empirical-dominican",
   "metadata": {},
   "source": [
    "## CNN classifier for the MNIST dataset"
   ]
  },
  {
   "cell_type": "markdown",
   "id": "nonprofit-handling",
   "metadata": {},
   "source": [
    "#### The MNIST dataset\n",
    "\n",
    "In this assignment, you will use the [MNIST dataset](http://yann.lecun.com/exdb/mnist/). It consists of a training set of 60,000 handwritten digits with corresponding labels, and a test set of 10,000 images. The images have been normalised and centred. The dataset is frequently used in machine learning research, and has become a standard benchmark for image classification models. \n",
    "\n",
    "- Y. LeCun, L. Bottou, Y. Bengio, and P. Haffner. \"Gradient-based learning applied to document recognition.\" Proceedings of the IEEE, 86(11):2278-2324, November 1998.\n",
    "\n",
    "Your goal is to construct a neural network that classifies images of handwritten digits into one of 10 classes."
   ]
  },
  {
   "cell_type": "code",
   "execution_count": null,
   "id": "surface-kansas",
   "metadata": {},
   "outputs": [],
   "source": [
    "import numpy as np\n",
    "import torch\n",
    "import torchvision\n",
    "from torch import nn\n",
    "from torch.nn.functional import one_hot\n",
    "from torch.utils.data import DataLoader\n",
    "from torchvision import datasets, transforms"
   ]
  },
  {
   "cell_type": "markdown",
   "id": "bright-dialogue",
   "metadata": {},
   "source": [
    "#### Load and preprocess the data"
   ]
  },
  {
   "cell_type": "code",
   "execution_count": null,
   "id": "narrative-victim",
   "metadata": {},
   "outputs": [],
   "source": [
    "trans = torchvision.transforms.Compose([\n",
    "    torchvision.transforms.ToTensor()\n",
    "])\n",
    "\n",
    "from PIL import Image\n",
    "from typing import Tuple, Any\n",
    "\n",
    "class NormalizedMNIST(datasets.MNIST):    \n",
    "    def __getitem__(self, index: int) -> Tuple[Any, Any]:\n",
    "        img, target = self.data[index], int(self.targets[index])\n",
    "\n",
    "        # doing this so that it is consistent with all other datasets\n",
    "        # to return a PIL Image\n",
    "        img = Image.fromarray(img.numpy() / 255., mode='L')\n",
    "\n",
    "        if self.transform is not None:\n",
    "            img = self.transform(img)\n",
    "\n",
    "        if self.target_transform is not None:\n",
    "            target = self.target_transform(target)\n",
    "\n",
    "        return img, target"
   ]
  },
  {
   "cell_type": "code",
   "execution_count": null,
   "id": "electoral-distance",
   "metadata": {},
   "outputs": [],
   "source": [
    "MNIST_train = datasets.MNIST('./data/minst/', train=True, download=True, transform=trans)\n",
    "MNIST_train.data.shape"
   ]
  },
  {
   "cell_type": "code",
   "execution_count": null,
   "id": "detected-rabbit",
   "metadata": {},
   "outputs": [],
   "source": [
    "MNIST_test = datasets.MNIST('./data/minst/', train=False, download=True, transform=trans)\n",
    "MNIST_test.data.shape"
   ]
  },
  {
   "cell_type": "code",
   "execution_count": null,
   "id": "bridal-closing",
   "metadata": {},
   "outputs": [],
   "source": [
    "batch_size_train = 1000\n",
    "batch_size_test = 1000\n",
    "\n",
    "# 1, torchvision.transforms.ToTensor(): swap color axis because\n",
    "# numpy image: H x W x C\n",
    "# torch image: C x H x W\n",
    "train_loader = DataLoader(\n",
    "    datasets.MNIST('./data/minst/', train=True, download=True, transform=trans),\n",
    "    batch_size=batch_size_train, \n",
    "    shuffle=True\n",
    ")\n",
    "test_loader = DataLoader(\n",
    "    datasets.MNIST('./data/minst/', train=False, download=True, transform=trans),\n",
    "    batch_size=batch_size_test, \n",
    "    shuffle=True\n",
    ")"
   ]
  },
  {
   "cell_type": "code",
   "execution_count": null,
   "id": "north-airfare",
   "metadata": {},
   "outputs": [],
   "source": [
    "class SequentialNetwork(nn.Module):\n",
    "    def __init__(self):\n",
    "        super(SequentialNetwork, self).__init__()\n",
    "        self.linear_relu_stack = nn.Sequential(\n",
    "            nn.LazyConv2d(out_channels=8, kernel_size=(3,3), padding='same'),\n",
    "            nn.ReLU(),\n",
    "            nn.MaxPool2d((2,2)),\n",
    "            nn.Flatten(),\n",
    "            nn.LazyLinear(64),\n",
    "            nn.ReLU(),\n",
    "            nn.LazyLinear(64),\n",
    "            nn.ReLU(),\n",
    "            nn.LazyLinear(10),\n",
    "            nn.Softmax(dim=1),\n",
    "        )\n",
    "    \n",
    "    def forward(self, x):\n",
    "        return self.linear_relu_stack(x)"
   ]
  },
  {
   "cell_type": "code",
   "execution_count": null,
   "id": "statewide-contrast",
   "metadata": {},
   "outputs": [],
   "source": [
    "import torch.optim as optim\n",
    "\n",
    "model = SequentialNetwork()\n",
    "optimizer = optim.Adam(model.parameters())\n",
    "loss_fn = nn.CrossEntropyLoss()"
   ]
  },
  {
   "cell_type": "code",
   "execution_count": null,
   "id": "narrow-scotland",
   "metadata": {},
   "outputs": [],
   "source": [
    "from torch.nn.functional import one_hot\n",
    "\n",
    "def sparse_cross_entropy_loss(y_pred, y_true):\n",
    "    return torch.mean(-torch.log(torch.sum(one_hot(y_true, num_classes=len(y_pred[0])) * y_pred, axis=1)))"
   ]
  },
  {
   "cell_type": "code",
   "execution_count": null,
   "id": "powered-indianapolis",
   "metadata": {},
   "outputs": [],
   "source": [
    "def train():\n",
    "    model.train()\n",
    "    size = len(train_loader.dataset)\n",
    "    total_batch = len(train_loader)\n",
    "    for epoch in range(10):\n",
    "        accuracy = 0\n",
    "        for batch, (X, y) in enumerate(train_loader):\n",
    "            # Compute prediction and loss\n",
    "            pred = model(X)\n",
    "            loss = sparse_cross_entropy_loss(pred, y)\n",
    "            accuracy += (pred.argmax(1) == y).type(torch.float).sum().item()\n",
    "\n",
    "            # Backpropgation\n",
    "            optimizer.zero_grad()\n",
    "            loss.backward()\n",
    "            optimizer.step()\n",
    "\n",
    "            if batch == total_batch - 1:\n",
    "                loss, accuracy = loss.item(), accuracy/size\n",
    "                print(f'Epoch {epoch} - loss: {loss:>7f}, accuracy: {accuracy:>7f}')"
   ]
  },
  {
   "cell_type": "code",
   "execution_count": null,
   "id": "center-worse",
   "metadata": {},
   "outputs": [],
   "source": [
    "def test():\n",
    "    size = len(test_loader.dataset)\n",
    "    num_batches = len(test_loader)\n",
    "    test_loss, correct = 0, 0\n",
    "    \n",
    "    with torch.no_grad():\n",
    "        for X, y in test_loader:\n",
    "            pred = model(X)\n",
    "            test_loss += sparse_cross_entropy_loss(pred, y).item()\n",
    "            correct += (pred.argmax(1) == y).type(torch.float).sum().item()\n",
    "            \n",
    "    test_loss /= num_batches\n",
    "    correct /= size\n",
    "    print(f\"Test Error: \\n Accuracy: {(100*correct):>0.1f}%, Avg loss: {test_loss:>8f} \\n\")"
   ]
  },
  {
   "cell_type": "code",
   "execution_count": null,
   "id": "swiss-petite",
   "metadata": {},
   "outputs": [],
   "source": [
    "train()"
   ]
  },
  {
   "cell_type": "code",
   "execution_count": null,
   "id": "acquired-anime",
   "metadata": {},
   "outputs": [],
   "source": [
    "test()"
   ]
  },
  {
   "cell_type": "code",
   "execution_count": null,
   "id": "integrated-clerk",
   "metadata": {},
   "outputs": [],
   "source": []
  }
 ],
 "metadata": {
  "kernelspec": {
   "display_name": "Python 3 (ipykernel)",
   "language": "python",
   "name": "python3"
  },
  "language_info": {
   "codemirror_mode": {
    "name": "ipython",
    "version": 3
   },
   "file_extension": ".py",
   "mimetype": "text/x-python",
   "name": "python",
   "nbconvert_exporter": "python",
   "pygments_lexer": "ipython3",
   "version": "3.8.8"
  }
 },
 "nbformat": 4,
 "nbformat_minor": 5
}
