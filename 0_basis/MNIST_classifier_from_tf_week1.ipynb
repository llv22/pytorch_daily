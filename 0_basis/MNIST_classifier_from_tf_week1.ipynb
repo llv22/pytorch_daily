{
 "cells": [
  {
   "cell_type": "markdown",
   "id": "julian-alpha",
   "metadata": {},
   "source": [
    "# Programming Assignment\n",
    "\n",
    "This programming assignment is migrated from tensorflow 2.0 excercise, aiming at familiar with pytorch programming API\n",
    "\n",
    "Reference:\n",
    "* https://nextjournal.com/gkoehler/pytorch-mnist\n",
    "* https://pytorch.org/tutorials/beginner/basics/data_tutorial.html\n",
    "* https://pytorch.org/tutorials/beginner/basics/buildmodel_tutorial.html\n",
    "* https://blog.csdn.net/touristourist/article/details/100535544"
   ]
  },
  {
   "cell_type": "markdown",
   "id": "clean-tennessee",
   "metadata": {},
   "source": [
    "## CNN classifier for the MNIST dataset"
   ]
  },
  {
   "cell_type": "markdown",
   "id": "seven-mountain",
   "metadata": {},
   "source": [
    "#### The MNIST dataset\n",
    "\n",
    "In this assignment, you will use the [MNIST dataset](http://yann.lecun.com/exdb/mnist/). It consists of a training set of 60,000 handwritten digits with corresponding labels, and a test set of 10,000 images. The images have been normalised and centred. The dataset is frequently used in machine learning research, and has become a standard benchmark for image classification models. \n",
    "\n",
    "- Y. LeCun, L. Bottou, Y. Bengio, and P. Haffner. \"Gradient-based learning applied to document recognition.\" Proceedings of the IEEE, 86(11):2278-2324, November 1998.\n",
    "\n",
    "Your goal is to construct a neural network that classifies images of handwritten digits into one of 10 classes."
   ]
  },
  {
   "cell_type": "code",
   "execution_count": 1,
   "id": "capital-bidding",
   "metadata": {},
   "outputs": [],
   "source": [
    "import torch\n",
    "import torchvision\n",
    "from torch import nn\n",
    "from torch.nn.functional import one_hot\n",
    "from torch.utils.data import DataLoader\n",
    "from torchvision import datasets, transforms"
   ]
  },
  {
   "cell_type": "markdown",
   "id": "worth-passage",
   "metadata": {},
   "source": [
    "#### Load and preprocess the data"
   ]
  },
  {
   "cell_type": "code",
   "execution_count": 2,
   "id": "ancient-beads",
   "metadata": {},
   "outputs": [
    {
     "data": {
      "text/plain": [
       "torch.Size([60000, 28, 28])"
      ]
     },
     "execution_count": 2,
     "metadata": {},
     "output_type": "execute_result"
    }
   ],
   "source": [
    "MNIST_train = datasets.MNIST('./data/minst/', train=True, download=True,\n",
    "                             transform=torchvision.transforms.Compose([\n",
    "                                 torchvision.transforms.ToTensor()\n",
    "                             ]))\n",
    "MNIST_train.data.shape"
   ]
  },
  {
   "cell_type": "code",
   "execution_count": 3,
   "id": "written-footage",
   "metadata": {},
   "outputs": [
    {
     "data": {
      "text/plain": [
       "torch.Size([10000, 28, 28])"
      ]
     },
     "execution_count": 3,
     "metadata": {},
     "output_type": "execute_result"
    }
   ],
   "source": [
    "MNIST_test = datasets.MNIST('./data/minst/', train=False, download=True,\n",
    "                            transform=torchvision.transforms.Compose([\n",
    "                                torchvision.transforms.ToTensor()\n",
    "                            ]))\n",
    "MNIST_test.data.shape"
   ]
  },
  {
   "cell_type": "code",
   "execution_count": 4,
   "id": "likely-stamp",
   "metadata": {},
   "outputs": [],
   "source": [
    "batch_size_train = 1000\n",
    "batch_size_test = 1000\n",
    "\n",
    "train_loader = DataLoader(\n",
    "    datasets.MNIST('./data/minst/', train=True, download=True,\n",
    "                   transform=torchvision.transforms.Compose([\n",
    "                       torchvision.transforms.ToTensor()\n",
    "                   ])),\n",
    "    batch_size=batch_size_train, \n",
    "#     shuffle=True\n",
    ")\n",
    "test_loader = DataLoader(\n",
    "    datasets.MNIST('./data/minst/', train=False, download=True,\n",
    "                   transform=torchvision.transforms.Compose([\n",
    "                       torchvision.transforms.ToTensor()\n",
    "                   ])),\n",
    "    batch_size=batch_size_test, \n",
    "#     shuffle=True\n",
    ")"
   ]
  },
  {
   "cell_type": "code",
   "execution_count": 5,
   "id": "persistent-simulation",
   "metadata": {},
   "outputs": [
    {
     "name": "stdout",
     "output_type": "stream",
     "text": [
      "batch_idx: 0, example_data.shape: torch.Size([200, 1, 28, 28]), example_targets.shape: torch.Size([200])\n"
     ]
    }
   ],
   "source": [
    "examples = enumerate(train_loader)\n",
    "batch_idx, (example_data, example_targets) = next(examples)\n",
    "print(f'batch_idx: {batch_idx}, example_data.shape: {example_data.shape},' \n",
    "      + f' example_targets.shape: {example_targets.shape}')"
   ]
  },
  {
   "cell_type": "code",
   "execution_count": 6,
   "id": "junior-limitation",
   "metadata": {},
   "outputs": [],
   "source": [
    "class SequentialNetwork(nn.Module):\n",
    "    def __init__(self):\n",
    "        super(SequentialNetwork, self).__init__()\n",
    "        self.linear_relu_stack = nn.Sequential(\n",
    "            nn.LazyConv2d(out_channels=8, kernel_size=(3,3), padding='same'),\n",
    "            nn.ReLU(),\n",
    "            nn.MaxPool2d((2,2)),\n",
    "            nn.Flatten(),\n",
    "            nn.LazyLinear(64),\n",
    "            nn.ReLU(),\n",
    "            nn.LazyLinear(64),\n",
    "            nn.ReLU(),\n",
    "            nn.LazyLinear(10),\n",
    "            nn.Softmax(dim=1),\n",
    "        )\n",
    "    \n",
    "    def forward(self, x):\n",
    "        return self.linear_relu_stack(x)"
   ]
  },
  {
   "cell_type": "code",
   "execution_count": 7,
   "id": "collaborative-carter",
   "metadata": {},
   "outputs": [
    {
     "name": "stderr",
     "output_type": "stream",
     "text": [
      "/Users/llv23/opt/miniconda3/lib/python3.8/site-packages/torch/nn/modules/lazy.py:178: UserWarning: Lazy modules are a new feature under heavy development so changes to the API or functionality can happen at any moment.\n",
      "  warnings.warn('Lazy modules are a new feature under heavy development '\n"
     ]
    }
   ],
   "source": [
    "import torch.optim as optim\n",
    "\n",
    "model = SequentialNetwork()\n",
    "optimizer = optim.Adam(model.parameters())\n",
    "loss_fn = nn.CrossEntropyLoss()"
   ]
  },
  {
   "cell_type": "code",
   "execution_count": 8,
   "id": "italic-warrant",
   "metadata": {},
   "outputs": [],
   "source": [
    "def train():\n",
    "    model.train()\n",
    "    size = len(train_loader.dataset)\n",
    "    total_batch = len(train_loader)\n",
    "    for epoch in range(5):\n",
    "        for batch, (X, y) in enumerate(train_loader):\n",
    "            # Compute prediction and loss\n",
    "            pred = model(X)\n",
    "            loss = loss_fn(pred, y)\n",
    "\n",
    "            # Backpropgation\n",
    "            optimizer.zero_grad()\n",
    "            loss.backward()\n",
    "            optimizer.step()\n",
    "\n",
    "            if (batch != 0 and batch % 100 == 0) or batch == total_batch - 1:\n",
    "                loss, current = loss.item(), batch * len(X)\n",
    "                print(f'Epoch {epoch} batch {batch} - loss: {loss:>7f} [{current:>5d}/{size:>5d}]')"
   ]
  },
  {
   "cell_type": "code",
   "execution_count": 9,
   "id": "marine-criminal",
   "metadata": {},
   "outputs": [],
   "source": [
    "def test():\n",
    "    size = len(test_loader.dataset)\n",
    "    num_batches = len(test_loader)\n",
    "    test_loss, correct = 0, 0\n",
    "    \n",
    "    with torch.no_grad():\n",
    "        for X, y in test_loader:\n",
    "            pred = model(X)\n",
    "            test_loss += loss_fn(pred, y).item()\n",
    "            correct += (pred.argmax(1) == y).type(torch.float).sum().item()\n",
    "            \n",
    "    test_loss /= num_batches\n",
    "    correct /= size\n",
    "    print(f\"Test Error: \\n Accuracy: {(100*correct):>0.1f}%, Avg loss: {test_loss:>8f} \\n\")"
   ]
  },
  {
   "cell_type": "code",
   "execution_count": 10,
   "id": "placed-memphis",
   "metadata": {},
   "outputs": [
    {
     "name": "stdout",
     "output_type": "stream",
     "text": [
      "Epoch 0 batch 100 - loss: 1.712076 [20000/60000]\n",
      "Epoch 0 batch 200 - loss: 1.697854 [40000/60000]\n",
      "Epoch 0 batch 299 - loss: 1.637470 [59800/60000]\n",
      "Epoch 1 batch 100 - loss: 1.604121 [20000/60000]\n",
      "Epoch 1 batch 200 - loss: 1.600918 [40000/60000]\n",
      "Epoch 1 batch 299 - loss: 1.630954 [59800/60000]\n",
      "Epoch 2 batch 100 - loss: 1.538745 [20000/60000]\n",
      "Epoch 2 batch 200 - loss: 1.539587 [40000/60000]\n",
      "Epoch 2 batch 299 - loss: 1.510770 [59800/60000]\n",
      "Epoch 3 batch 100 - loss: 1.513537 [20000/60000]\n",
      "Epoch 3 batch 200 - loss: 1.533348 [40000/60000]\n",
      "Epoch 3 batch 299 - loss: 1.520530 [59800/60000]\n",
      "Epoch 4 batch 100 - loss: 1.495877 [20000/60000]\n",
      "Epoch 4 batch 200 - loss: 1.511698 [40000/60000]\n",
      "Epoch 4 batch 299 - loss: 1.513566 [59800/60000]\n"
     ]
    }
   ],
   "source": [
    "train()"
   ]
  },
  {
   "cell_type": "code",
   "execution_count": 11,
   "id": "abroad-comparative",
   "metadata": {},
   "outputs": [
    {
     "name": "stdout",
     "output_type": "stream",
     "text": [
      "Test Error: \n",
      " Accuracy: 96.4%, Avg loss: 1.498809 \n",
      "\n"
     ]
    }
   ],
   "source": [
    "test()"
   ]
  },
  {
   "cell_type": "code",
   "execution_count": null,
   "id": "grand-specialist",
   "metadata": {},
   "outputs": [],
   "source": []
  }
 ],
 "metadata": {
  "kernelspec": {
   "display_name": "Python 3 (ipykernel)",
   "language": "python",
   "name": "python3"
  },
  "language_info": {
   "codemirror_mode": {
    "name": "ipython",
    "version": 3
   },
   "file_extension": ".py",
   "mimetype": "text/x-python",
   "name": "python",
   "nbconvert_exporter": "python",
   "pygments_lexer": "ipython3",
   "version": "3.8.8"
  }
 },
 "nbformat": 4,
 "nbformat_minor": 5
}
