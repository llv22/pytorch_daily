{
 "cells": [
  {
   "cell_type": "markdown",
   "id": "intellectual-glass",
   "metadata": {},
   "source": [
    "# PyTorch Lightning V1.2.0 - DeepSpeed, Pruning, Quantization, SWA\n",
    "Reference:\n",
    "* https://medium.com/pytorch/pytorch-lightning-v1-2-0-43a032ade82b"
   ]
  },
  {
   "cell_type": "code",
   "execution_count": null,
   "id": "skilled-indication",
   "metadata": {},
   "outputs": [],
   "source": [
    "import torch\n",
    "from pl_bolts.datamodules import CIFAR10DataModule, ImagenetDataModule\n",
    "from pytorch_lightning import Trainer, LightningModule\n",
    "from pytorch_lightning.callbacks import ModelPruning, QuantizationAwareTraining\n",
    "from pytorch_lightning.profiler.profilers import PyTorchProfiler"
   ]
  },
  {
   "cell_type": "markdown",
   "id": "shared-reggae",
   "metadata": {},
   "source": [
    "## Pruning"
   ]
  },
  {
   "cell_type": "code",
   "execution_count": null,
   "id": "rural-merchant",
   "metadata": {},
   "outputs": [],
   "source": [
    "trainer = Trainer(callbacks=[ModelPruning(\"l1_unstructured\")])"
   ]
  },
  {
   "cell_type": "markdown",
   "id": "communist-wrist",
   "metadata": {},
   "source": [
    "## Quantization"
   ]
  },
  {
   "cell_type": "code",
   "execution_count": null,
   "id": "adult-disease",
   "metadata": {},
   "outputs": [],
   "source": [
    "class RegressionModel(LightningModule):\n",
    "\n",
    "    def __init__(self):\n",
    "        super().__init__()\n",
    "        self.layer_0 = torch.nn.Linear(16, 64)\n",
    "        self.layer_0a = torch.nn.ReLU()\n",
    "        self.layer_1 = torch.nn.Linear(64, 64)\n",
    "        self.layer_1a = torch.nn.ReLU()\n",
    "        self.layer_end = torch.nn.Linear(64, 1)\n",
    "\n",
    "    def forward(self, x):\n",
    "        x = self.layer_0(x)\n",
    "        x = self.layer_0a(x)\n",
    "        x = self.layer_1(x)\n",
    "        x = self.layer_1a(x)\n",
    "        x = self.layer_end(x)\n",
    "        return x"
   ]
  },
  {
   "cell_type": "code",
   "execution_count": null,
   "id": "waiting-spectacular",
   "metadata": {},
   "outputs": [],
   "source": [
    "qcb = QuantizationAwareTraining(\n",
    "    # specification of quant estimation quaity\n",
    "    observer_type='histogram',\n",
    "    # specify which layers shall be merged together to increase efficiency\n",
    "    modules_to_fuse=[(f'layer_{i}', f'layer_{i}a') for i in range(2)],\n",
    "    input_compatible=False,\n",
    ")\n",
    "\n",
    "trainer = Trainer(callbacks=[qcb])\n",
    "qmodel = RegressionModel()\n",
    "trainer.fit(qmodel, ...)\n",
    "\n",
    "# take sample data batch, for example from you test dataloader\n",
    "batch = iter(my_dataloader()).next()\n",
    "# using fully quantized model, you need to apply quantization layer\n",
    "qmodel(qmodel.quant(batch[0]))\n",
    "\n",
    "# converting model to torchscript\n",
    "tsmodel = qmodel.to_torchscript()\n",
    "# even converted model preserve created quantisation layer which you can/should use\n",
    "tsmodel(tsmodel.quant(batch[0]))"
   ]
  },
  {
   "cell_type": "markdown",
   "id": "caring-appreciation",
   "metadata": {},
   "source": [
    "## Stochastic Weight Averaging "
   ]
  },
  {
   "cell_type": "code",
   "execution_count": null,
   "id": "impressive-payroll",
   "metadata": {},
   "outputs": [],
   "source": [
    "trainer = Trainer(stochastic_weight_avg=True)"
   ]
  },
  {
   "cell_type": "code",
   "execution_count": null,
   "id": "liquid-bradford",
   "metadata": {},
   "outputs": [],
   "source": [
    "from pytorch_lightning.callbacks import StochasticWeightAveraging\n",
    "trainer = Trainer(callbacks=[StochasticWeightAveraging()])"
   ]
  },
  {
   "cell_type": "markdown",
   "id": "precious-melbourne",
   "metadata": {},
   "source": [
    "## Finetuning"
   ]
  },
  {
   "cell_type": "code",
   "execution_count": null,
   "id": "loaded-milton",
   "metadata": {},
   "outputs": [],
   "source": [
    "from pytorch_lightning.callbacks import BaseFinetuning\n",
    "\n",
    "class MyBackboneFinetuning(BaseFinetuning):\n",
    "\n",
    "    def __init__(self, unfreeze_backbone_at_epoch: int = 5, train_bn: bool = True, backbone_lr: float = 1e-5):\n",
    "        self._unfreeze_backbone_at_epoch = unfreeze_backbone_at_epoch\n",
    "        self._train_bn = train_bn\n",
    "        self._backbone_lr = backbone_lr\n",
    "\n",
    "    def freeze_before_training(self, pl_module: LightningModule):\n",
    "        self.freeze(pl_module.backbone, train_bn=self._train_bn)\n",
    "\n",
    "    def finetune_function(self, pl_module: LightningModule, epoch: int, optimizer: Optimizer, opt_idx: int):\n",
    "        \"\"\"Called on every epoch starts.\"\"\"\n",
    "        if epoch == self.unfreeze_backbone_at_epoch:\n",
    "            self.unfreeze_and_add_param_group(\n",
    "                pl_module.backbone,\n",
    "                optimizer,\n",
    "                lr=self._backbone_lr,\n",
    "                train_bn=self.train_bn,\n",
    "            )\n",
    "\n",
    "trainer = Trainer(callbacks=[MyBackboneFinetuning()])"
   ]
  },
  {
   "cell_type": "markdown",
   "id": "green-imperial",
   "metadata": {},
   "source": [
    "## PyTorch Geometric integration"
   ]
  },
  {
   "cell_type": "code",
   "execution_count": null,
   "id": "agricultural-disabled",
   "metadata": {},
   "outputs": [],
   "source": [
    "# ! pip install torch-sparse -f https://data.pyg.org/whl/torch-1.9.1+cu102.html\n",
    "# ! pip install torch-geometric\n",
    "import os.path as osp\n",
    "\n",
    "import pytorch_lightning as pl\n",
    "import torch\n",
    "import torch.nn.functional as F\n",
    "from torch.nn import BatchNorm1d\n",
    "from torchmetrics import Accuracy\n",
    "\n",
    "from torch_geometric import seed_everything\n",
    "from torch_geometric.data import LightningNodeData\n",
    "from torch_geometric.datasets import Reddit\n",
    "from torch_geometric.nn import GraphSAGE"
   ]
  },
  {
   "cell_type": "code",
   "execution_count": null,
   "id": "rubber-rugby",
   "metadata": {},
   "outputs": [],
   "source": [
    "datamodule = Reddit('data/Reddit')\n",
    "model = GraphSAGE(datamodule.num_features, datamodule.num_classes)\n",
    "\n",
    "trainer = Trainer(gpus=2, accelerator='ddp', max_epochs=10)\n",
    "trainer.fit(model, datamodule=datamodule)"
   ]
  },
  {
   "cell_type": "markdown",
   "id": "funny-canada",
   "metadata": {},
   "source": [
    "## New Accelerator/plugins API"
   ]
  },
  {
   "cell_type": "code",
   "execution_count": null,
   "id": "false-tumor",
   "metadata": {},
   "outputs": [],
   "source": [
    "trainer = Trainer(gpus=1, accelerator=\"ddp_spawn\", precision=16)"
   ]
  },
  {
   "cell_type": "code",
   "execution_count": null,
   "id": "respected-indonesia",
   "metadata": {},
   "outputs": [],
   "source": [
    "# Pass in a plugin\n",
    "from pytorch_lightning.plugins import NativeMixedPrecisionPlugin\n",
    "\n",
    "plugins=[NativeMixedPrecisionPlugin(precision=16, device=\"cuda[0]\")]\n",
    "trainer = Trainer(gpus=1, accelerator='ddp_spawn', plugins=plugins)"
   ]
  },
  {
   "cell_type": "code",
   "execution_count": null,
   "id": "social-socket",
   "metadata": {},
   "outputs": [],
   "source": []
  }
 ],
 "metadata": {
  "kernelspec": {
   "display_name": "Python 3",
   "language": "python",
   "name": "python3"
  },
  "language_info": {
   "codemirror_mode": {
    "name": "ipython",
    "version": 3
   },
   "file_extension": ".py",
   "mimetype": "text/x-python",
   "name": "python",
   "nbconvert_exporter": "python",
   "pygments_lexer": "ipython3",
   "version": "3.8.8"
  }
 },
 "nbformat": 4,
 "nbformat_minor": 5
}
