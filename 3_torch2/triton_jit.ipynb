{
 "cells": [
  {
   "cell_type": "markdown",
   "id": "32c56dbd",
   "metadata": {},
   "source": [
    "# Accelerating Hugging Face and TIMM models with PyTorch 2.0\n",
    "\n",
    "* [Accelerating Hugging Face and TIMM models with PyTorch 2.0](https://pytorch.org/blog/Accelerating-Hugging-Face-and-TIMM-models/Accelerating Hugging Face and TIMM models with PyTorch 2.0)\n",
    "* [PyTorch 2.0 New Features](https://pytorch.org/get-started/pytorch-2.0/)\n",
    "\n",
    "Install networkx and triton via\n",
    "\n",
    "```bash\n",
    "pip install networkx\n",
    "pip install triton-2.0.0.post1\n",
    "```"
   ]
  },
  {
   "cell_type": "code",
   "execution_count": 1,
   "id": "00e68298",
   "metadata": {
    "ExecuteTime": {
     "end_time": "2023-03-19T18:22:55.948605Z",
     "start_time": "2023-03-19T18:22:33.269244Z"
    }
   },
   "outputs": [
    {
     "name": "stderr",
     "output_type": "stream",
     "text": [
      "2023-03-19 11:22:35.723794: I tensorflow/core/util/util.cc:169] oneDNN custom operations are on. You may see slightly different numerical results due to floating-point round-off errors from different computation orders. To turn them off, set the environment variable `TF_ENABLE_ONEDNN_OPTS=0`.\n",
      "/usr/local/anaconda3/lib/python3.9/site-packages/torch/_inductor/compile_fx.py:90: UserWarning: TensorFloat32 tensor cores for float32 matrix multiplication available but not enabled. Consider setting `torch.set_float32_matmul_precision('high')` for better performance.\n",
      "  warnings.warn(\n"
     ]
    }
   ],
   "source": [
    "# Need networkx installed to perform smart recomputation heuristics\n",
    "import torch\n",
    "import torchvision.models as models\n",
    "\n",
    "model = models.resnet18().cuda()\n",
    "optimizer = torch.optim.SGD(model.parameters(), lr=0.01)\n",
    "compiled_model = torch.compile(model)\n",
    "\n",
    "x = torch.randn(16, 3, 224, 224).cuda()\n",
    "optimizer.zero_grad()\n",
    "# out = model(x)\n",
    "out = compiled_model(x)\n",
    "out.sum().backward()\n",
    "optimizer.step()"
   ]
  },
  {
   "cell_type": "code",
   "execution_count": null,
   "id": "c934829c",
   "metadata": {},
   "outputs": [],
   "source": []
  }
 ],
 "metadata": {
  "kernelspec": {
   "display_name": "Python 3 (ipykernel)",
   "language": "python",
   "name": "python3"
  },
  "language_info": {
   "codemirror_mode": {
    "name": "ipython",
    "version": 3
   },
   "file_extension": ".py",
   "mimetype": "text/x-python",
   "name": "python",
   "nbconvert_exporter": "python",
   "pygments_lexer": "ipython3",
   "version": "3.9.12"
  }
 },
 "nbformat": 4,
 "nbformat_minor": 5
}
